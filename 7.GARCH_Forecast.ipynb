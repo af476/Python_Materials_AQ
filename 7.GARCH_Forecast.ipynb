{
 "cells": [
  {
   "cell_type": "markdown",
   "metadata": {},
   "source": [
    "\n",
    "<h2 id=\"Volatility\">Volatility<a class=\"anchor-link\" href=\"#Volatility\">¶</a></h2><p>Asset price volatility is central to derivatives pricing. It is defined as measure of price variability over certain period of time. In essence, it describes standard deviation of returns. There are different types of volatility: Historical, Implied, Forward. In most cases, we assume volatility to be constant, which is clearly not true and numerous studies have been dedicated to estimate this variable, both in academia and industry.</p>\n",
    "<p>Volatility estimation by statistical means assume equal weights to all returns measured over the period. We know that over 1-day, the mean return is small as compared to standard deviation. If we consider a simple <em>m</em>-period moving average, where $\\sigma_n$ is the volatility of return on day n, then with $\\overline u$ $\\approx$ 0, we have <br/><br/></p>\n",
    "$$ \\sigma^2_n = \\frac 1 m \\sum_{i=1}^m u^2_{n-i} $$<p>where, $u$ is return and $\\sigma^2$ is the variance.</p>\n",
    "<p>However, any large return within this <em>n</em> period will elevate the volatility until it drops out of the sample. Further, we observe volatility is mean reverting and tends to vary about a long term mean. To address this effect, we adopt to the weighting schemes.<br/><br/></p>\n",
    "$$ \\sigma^2_n = \\omega + \\sum_{i=1}^m \\alpha_i u^2_{n-i} $$<p>where, $\\omega = \\gamma \\overline \\sigma^2$ and weights must sum to 1.</p>\n",
    "<p>This is known as <strong>Autoregressive Conditional Heteroscedastic</strong> model.</p>\n",
    "<h2 id=\"ARCH\">ARCH<a class=\"anchor-link\" href=\"#ARCH\">¶</a></h2><p><strong>Autoregressive</strong> models are a statistical technique involving a regression of lagged values where the model suggests that past values can help forecast future values of the same variable. Within the model, a time series is the dependent variable and lagged values are the independent variables.</p>\n",
    "<p>The ARCH model, was originally developed by Robert Engle in 1982 to measure the dynamics of inflation uncertainty. <strong>Conditional heteroskedasticity</strong> refers to the notion that the next period’s volatility is conditional on the volatility in the current period as well as to the time varying nature of volatility. However, given the volatility dynamics, this model fail to fully capture the persistence of volatility.</p>\n",
    "<h2 id=\"GARCH\">GARCH<a class=\"anchor-link\" href=\"#GARCH\">¶</a></h2><p>To address the shortcoming, ARCH has been extended to a generalised framework where we add volatility as a forecasting feature by adding previous variance. This method is popularly known as <strong>Generalized ARCH</strong> or <strong>GARCH</strong> model.<br/><br/></p>\n",
    "$$ \\sigma^2_n = \\omega + \\sum_{i=1}^p \\alpha_i u^2_{n-i} + \\sum_{i=1}^q \\beta_i \\sigma^2_{n-i} $$<p>where, $p$ and $q$ are lag length.</p>\n",
    "<p><strong>GARCH(1,1)</strong> is then represented as,</p>\n",
    "$$ \\sigma^2_n = \\omega + \\alpha u^2_{n-i} + \\beta \\sigma^2_{n-i} $$<p><br/></p>\n",
    "<p>where, $\\alpha + \\beta < 1$ and $\\gamma + \\alpha + \\beta = 1$ as weight applied to long term variance cannot be negative.</p>\n",
    "<p>The GARCH model is a way of specifying the dependence of the time varying nature of volatility. The model incorporates changes in the fluctuations in volatility and tracks the persistence of volatility as it fluctuates around its long-term average and are exponentially weighted.</p>\n",
    "<p>To model GARCH or the conditional volatility, we need to derive $\\omega$, $\\alpha$, $\\beta$ by maximizing the likelihood function.</p>\n"
   ]
  },
  {
   "cell_type": "markdown",
   "metadata": {},
   "source": [
    "\n",
    "<h3 id=\"Import-Libraries\">Import Libraries<a class=\"anchor-link\" href=\"#Import-Libraries\">¶</a></h3>\n"
   ]
  },
  {
   "cell_type": "code",
   "execution_count": 1,
   "metadata": {},
   "outputs": [],
   "source": [
    "import pandas as pd\n",
    "import numpy as np\n",
    "\n",
    "from scipy.stats import norm\n",
    "from scipy.optimize import minimize\n",
    "\n",
    "import matplotlib.pyplot as plt\n",
    "from matplotlib.pyplot import rcParams\n",
    "rcParams['figure.figsize'] = 16, 8\n",
    "\n",
    "import warnings\n",
    "warnings.filterwarnings('ignore')"
   ]
  },
  {
   "cell_type": "markdown",
   "metadata": {},
   "source": [
    "\n",
    "<h3 id=\"Retrieve-Data\">Retrieve Data<a class=\"anchor-link\" href=\"#Retrieve-Data\">¶</a></h3><p>We will use the FAANG stocks as before to build for calculation of VaR</p>\n"
   ]
  },
  {
   "cell_type": "code",
   "execution_count": 4,
   "metadata": {},
   "outputs": [
    {
     "data": {
      "text/html": [
       "<div>\n",
       "<style scoped>\n",
       "    .dataframe tbody tr th:only-of-type {\n",
       "        vertical-align: middle;\n",
       "    }\n",
       "\n",
       "    .dataframe tbody tr th {\n",
       "        vertical-align: top;\n",
       "    }\n",
       "\n",
       "    .dataframe thead th {\n",
       "        text-align: right;\n",
       "    }\n",
       "</style>\n",
       "<table border=\"1\" class=\"dataframe\">\n",
       "  <thead>\n",
       "    <tr style=\"text-align: right;\">\n",
       "      <th></th>\n",
       "      <th>VIX</th>\n",
       "      <th>S&amp;P 500</th>\n",
       "    </tr>\n",
       "    <tr>\n",
       "      <th>DATE</th>\n",
       "      <th></th>\n",
       "      <th></th>\n",
       "    </tr>\n",
       "  </thead>\n",
       "  <tbody>\n",
       "    <tr>\n",
       "      <th>1990-01-02</th>\n",
       "      <td>18.19</td>\n",
       "      <td>386.162</td>\n",
       "    </tr>\n",
       "    <tr>\n",
       "      <th>1990-01-03</th>\n",
       "      <td>18.19</td>\n",
       "      <td>385.171</td>\n",
       "    </tr>\n",
       "    <tr>\n",
       "      <th>1990-01-04</th>\n",
       "      <td>19.22</td>\n",
       "      <td>382.018</td>\n",
       "    </tr>\n",
       "    <tr>\n",
       "      <th>1990-01-05</th>\n",
       "      <td>20.11</td>\n",
       "      <td>378.299</td>\n",
       "    </tr>\n",
       "    <tr>\n",
       "      <th>1990-01-08</th>\n",
       "      <td>20.26</td>\n",
       "      <td>380.039</td>\n",
       "    </tr>\n",
       "  </tbody>\n",
       "</table>\n",
       "</div>"
      ],
      "text/plain": [
       "              VIX  S&P 500\n",
       "DATE                      \n",
       "1990-01-02  18.19  386.162\n",
       "1990-01-03  18.19  385.171\n",
       "1990-01-04  19.22  382.018\n",
       "1990-01-05  20.11  378.299\n",
       "1990-01-08  20.26  380.039"
      ]
     },
     "execution_count": 4,
     "metadata": {},
     "output_type": "execute_result"
    }
   ],
   "source": [
    "# Load locally stored data\n",
    "df = pd.read_csv('vol.csv', parse_dates=True, index_col=0, dayfirst=True)\n",
    "\n",
    "# Check first 5 values \n",
    "df.head()"
   ]
  },
  {
   "cell_type": "code",
   "execution_count": 5,
   "metadata": {},
   "outputs": [
    {
     "data": {
      "image/png": "[encoded data removed]",
      "text/plain": [
       "<Figure size 432x288 with 1 Axes>"
      ]
     },
     "metadata": {
      "needs_background": "light"
     },
     "output_type": "display_data"
    }
   ],
   "source": [
    "# Visualize FTSE 100 Index Price\n",
    "plt.plot(df['S&P 500'], color='orange')\n",
    "plt.title('S&P 500 Index')\n",
    "plt.grid(True)"
   ]
  },
  {
   "cell_type": "markdown",
   "metadata": {},
   "source": [
    "\n",
    "<h3 id=\"Calculate-Log-Returns\">Calculate Log Returns<a class=\"anchor-link\" href=\"#Calculate-Log-Returns\">¶</a></h3>\n"
   ]
  },
  {
   "cell_type": "code",
   "execution_count": 6,
   "metadata": {},
   "outputs": [],
   "source": [
    "# Calculate daily returns\n",
    "returns = np.log(df['S&P 500']).diff().fillna(0)"
   ]
  },
  {
   "cell_type": "code",
   "execution_count": 7,
   "metadata": {},
   "outputs": [
    {
     "data": {
      "text/plain": [
       "DATE\n",
       "1990-01-02    0.000000\n",
       "1990-01-03   -0.002570\n",
       "1990-01-04   -0.008220\n",
       "1990-01-05   -0.009783\n",
       "1990-01-08    0.004589\n",
       "1990-01-09   -0.011845\n",
       "1990-01-10   -0.006617\n",
       "1990-01-11    0.003508\n",
       "1990-01-12   -0.024811\n",
       "1990-01-15   -0.008657\n",
       "1990-01-16    0.011113\n",
       "1990-01-17   -0.009840\n",
       "1990-01-18    0.002336\n",
       "1990-01-19    0.002866\n",
       "1990-01-22   -0.026096\n",
       "1990-01-23    0.003722\n",
       "1990-01-24   -0.022498\n",
       "1990-01-25    0.005949\n",
       "1990-01-26   -0.000768\n",
       "1990-01-29   -0.001634\n",
       "1990-01-30   -0.006596\n",
       "1990-01-31    0.018714\n",
       "1990-02-01   -0.000732\n",
       "1990-02-02    0.006614\n",
       "1990-02-05    0.003527\n",
       "1990-02-06   -0.006258\n",
       "1990-02-07    0.012528\n",
       "1990-02-08   -0.002314\n",
       "1990-02-09    0.002439\n",
       "1990-02-12   -0.010304\n",
       "                ...   \n",
       "1999-11-18    0.010089\n",
       "1999-11-19   -0.002064\n",
       "1999-11-22   -0.000733\n",
       "1999-11-23   -0.011491\n",
       "1999-11-24    0.008826\n",
       "1999-11-26   -0.000253\n",
       "1999-11-29   -0.006066\n",
       "1999-11-30   -0.013515\n",
       "1999-12-01    0.006538\n",
       "1999-12-02    0.008074\n",
       "1999-12-03    0.017071\n",
       "1999-12-06   -0.006979\n",
       "1999-12-07   -0.009953\n",
       "1999-12-08   -0.003670\n",
       "1999-12-09    0.003026\n",
       "1999-12-10    0.006324\n",
       "1999-12-13   -0.001102\n",
       "1999-12-14   -0.008538\n",
       "1999-12-15    0.007241\n",
       "1999-12-16    0.003904\n",
       "1999-12-17    0.001603\n",
       "1999-12-20   -0.002048\n",
       "1999-12-21    0.010767\n",
       "1999-12-22    0.001999\n",
       "1999-12-23    0.015357\n",
       "1999-12-27   -0.000851\n",
       "1999-12-28    0.000386\n",
       "1999-12-29    0.004103\n",
       "1999-12-30    0.000707\n",
       "1999-12-31    0.003267\n",
       "Name: S&P 500, Length: 2528, dtype: float64"
      ]
     },
     "execution_count": 7,
     "metadata": {},
     "output_type": "execute_result"
    }
   ],
   "source": [
    "returns"
   ]
  },
  {
   "cell_type": "code",
   "execution_count": 8,
   "metadata": {},
   "outputs": [
    {
     "data": {
      "image/png": "[encoded data removed]",
      "text/plain": [
       "<Figure size 432x288 with 1 Axes>"
      ]
     },
     "metadata": {
      "needs_background": "light"
     },
     "output_type": "display_data"
    }
   ],
   "source": [
    "# Visualize FTSE 100 Index daily returns\n",
    "plt.plot(returns, color='orange')\n",
    "plt.title('S&P 500 Index Returns')\n",
    "plt.grid(True)"
   ]
  },
  {
   "cell_type": "markdown",
   "metadata": {},
   "source": [
    "\n",
    "<h2 id=\"Numerical-Optimization\">Numerical Optimization<a class=\"anchor-link\" href=\"#Numerical-Optimization\">¶</a></h2><p>We will use Numerical optimization to maximize the likelihood estimation. Numerical optimization is typically implemented to find the minimum of a function rather than the maximum and the function to be minimize is called an objective function. For maximum likelihood estimation, we simply define a negative log likelihood as our objective function.</p>\n"
   ]
  },
  {
   "cell_type": "markdown",
   "metadata": {},
   "source": [
    "\n",
    "<h3 id=\"GARCH\">GARCH<a class=\"anchor-link\" href=\"#GARCH\">¶</a></h3><p>Advantage of using a GARCH method when compared to EWMA is the inclusion of long term variance or volatility as a forecasting feature.</p>\n"
   ]
  },
  {
   "cell_type": "code",
   "execution_count": 10,
   "metadata": {},
   "outputs": [],
   "source": [
    "# GARCH(1,1) function\n",
    "def garch(omega, alpha, beta, ret):\n",
    "    \n",
    "    length = len(ret)\n",
    "    \n",
    "    var = []\n",
    "    for i in range(length):\n",
    "        if i==0:\n",
    "            var.append(omega/np.abs(1-alpha-beta))\n",
    "        else:\n",
    "            var.append(omega + alpha * ret[i-1]**2 + beta * var[i-1])\n",
    "            \n",
    "    return np.array(var)"
   ]
  },
  {
   "cell_type": "code",
   "execution_count": 11,
   "metadata": {},
   "outputs": [
    {
     "data": {
      "text/plain": [
       "array([7.90570000e-05, 7.11513000e-05, 6.54870136e-05])"
      ]
     },
     "execution_count": 11,
     "metadata": {},
     "output_type": "execute_result"
    }
   ],
   "source": [
    "garch(0.00000790570,0.1,0.8,returns)[:3]"
   ]
  },
  {
   "cell_type": "markdown",
   "metadata": {},
   "source": [
    "\n",
    "<h3 id=\"Maximum-Likelihood-Estimation\">Maximum Likelihood Estimation<a class=\"anchor-link\" href=\"#Maximum-Likelihood-Estimation\">¶</a></h3><p>Maximum Likeihood Estimation (MLE) is a statistical method used for fitting the data to a model. When using MLE, we first assume a distribution (ie., a parametric model) and then try to determine the model parameters. To estimate GARCH(1,1) parameters, we assume distribution of returns conditional on variance are normally distributed.</p>\n",
    "<p>We maximize,</p>\n",
    "$$\n",
    "\\sum_{i=1}^n log  \\Bigg[ \\frac1{\\sqrt{2\\pi\\sigma_i^2}} \\ e^\\frac{-(u_i-\\overline u)^2}{2\\sigma_i^2} \\Bigg]\n",
    "$$<p>to derive $\\omega$, $\\alpha$ and $\\beta$.</p>\n"
   ]
  },
  {
   "cell_type": "code",
   "execution_count": 12,
   "metadata": {},
   "outputs": [],
   "source": [
    "# Log likelihood function\n",
    "def likelihood(params, ret):\n",
    "    \n",
    "    length = len(ret)\n",
    "    omega = params[0]\n",
    "    alpha = params[1]\n",
    "    beta = params[2]\n",
    "    \n",
    "    variance = garch(omega, alpha, beta, ret)\n",
    "    \n",
    "    llh = []\n",
    "    for i in range(length):\n",
    "        llh.append(np.log(norm.pdf(ret[i], 0, np.sqrt(variance[i]))))\n",
    "    \n",
    "    return -np.sum(np.array(llh))"
   ]
  },
  {
   "cell_type": "code",
   "execution_count": 13,
   "metadata": {},
   "outputs": [
    {
     "data": {
      "text/plain": [
       "-8540.382225783567"
      ]
     },
     "execution_count": 13,
     "metadata": {},
     "output_type": "execute_result"
    }
   ],
   "source": [
    "likelihood((0.00000790570, 0.1, 0.8),returns)"
   ]
  },
  {
   "cell_type": "markdown",
   "metadata": {},
   "source": [
    "\n",
    "<h3 id=\"Optimization\">Optimization<a class=\"anchor-link\" href=\"#Optimization\">¶</a></h3>\n"
   ]
  },
  {
   "cell_type": "markdown",
   "metadata": {},
   "source": [
    "\n",
    "<p>Next, to optimize the GARCH parameters, we will use the <em><code>minimize</code></em> function from <code>scipy</code> optimization module. The objective function here is a function returning maximum log likelihood and the target variables are GARCH parameters.</p>\n",
    "<p>Further, we use the <code>Nelder–Mead</code> method also known as downhill simplex method which is a commonly applied to numerical method to find the minimum or maximum of an objective function in a multidimensional space. The simplex algorithm is probably the simplest way to minimize a fairly well-behaved function. It requires only function evaluations and is a good choice for simple minimization problems. The downside to this method is it may take longer to find the minimum as it does not use any gradient evaluations.</p>\n"
   ]
  },
  {
   "cell_type": "code",
   "execution_count": 14,
   "metadata": {},
   "outputs": [],
   "source": [
    "# Specify optimization input\n",
    "param = ['omega', 'alpha', 'beta']\n",
    "initial_values = (0.00000790570, 0.1,0.8)"
   ]
  },
  {
   "cell_type": "code",
   "execution_count": 15,
   "metadata": {},
   "outputs": [],
   "source": [
    "res = minimize(likelihood, initial_values, args = returns, \n",
    "                   method='Nelder-Mead', options={'disp':False})"
   ]
  },
  {
   "cell_type": "code",
   "execution_count": 16,
   "metadata": {},
   "outputs": [
    {
     "data": {
      "text/plain": [
       " final_simplex: (array([[4.65438215e-07, 4.88435228e-02, 9.46474229e-01],\n",
       "       [4.65063741e-07, 4.87639127e-02, 9.46541931e-01],\n",
       "       [4.66370864e-07, 4.88380272e-02, 9.46468659e-01],\n",
       "       [4.67308946e-07, 4.89011789e-02, 9.46392665e-01]]), array([-8596.64590336, -8596.64589904, -8596.64589338, -8596.64585848]))\n",
       "           fun: -8596.64590335503\n",
       "       message: 'Optimization terminated successfully.'\n",
       "          nfev: 135\n",
       "           nit: 77\n",
       "        status: 0\n",
       "       success: True\n",
       "             x: array([4.65438215e-07, 4.88435228e-02, 9.46474229e-01])"
      ]
     },
     "execution_count": 16,
     "metadata": {},
     "output_type": "execute_result"
    }
   ],
   "source": [
    "res"
   ]
  },
  {
   "cell_type": "code",
   "execution_count": 17,
   "metadata": {},
   "outputs": [
    {
     "data": {
      "text/plain": [
       "array([4.65438215e-07, 4.88435228e-02, 9.46474229e-01])"
      ]
     },
     "execution_count": 17,
     "metadata": {},
     "output_type": "execute_result"
    }
   ],
   "source": [
    "res['x']"
   ]
  },
  {
   "cell_type": "code",
   "execution_count": 18,
   "metadata": {},
   "outputs": [
    {
     "data": {
      "text/plain": [
       "{'omega': 0.0, 'alpha': 4.8844, 'beta': 94.6474}"
      ]
     },
     "execution_count": 18,
     "metadata": {},
     "output_type": "execute_result"
    }
   ],
   "source": [
    "# GARCH parameters\n",
    "dict(zip(param,np.around(res['x']*100,4)))"
   ]
  },
  {
   "cell_type": "code",
   "execution_count": 19,
   "metadata": {},
   "outputs": [
    {
     "data": {
      "text/plain": [
       "array([15.82720004, 15.43583318, 15.08301156, ..., 14.05045667,\n",
       "       13.78742288, 13.45929364])"
      ]
     },
     "execution_count": 19,
     "metadata": {},
     "output_type": "execute_result"
    }
   ],
   "source": [
    "# Parameters\n",
    "omega = res['x'][0] \n",
    "alpha = res['x'][1]\n",
    "beta = res['x'][2]\n",
    "\n",
    "# Variance\n",
    "var = garch(res['x'][0],res['x'][1],res['x'][2],returns)\n",
    "\n",
    "# Annualised conditional volatility\n",
    "ann_vol = np.sqrt(var*252) * 100\n",
    "ann_vol"
   ]
  },
  {
   "cell_type": "markdown",
   "metadata": {},
   "source": [
    "\n",
    "<h3 id=\"Visualize-Volatility\">Visualize Volatility<a class=\"anchor-link\" href=\"#Visualize-Volatility\">¶</a></h3>\n"
   ]
  },
  {
   "cell_type": "code",
   "execution_count": 20,
   "metadata": {},
   "outputs": [
    {
     "data": {
      "image/png": "[encoded data removed]",
      "text/plain": [
       "<Figure size 432x288 with 1 Axes>"
      ]
     },
     "metadata": {
      "needs_background": "light"
     },
     "output_type": "display_data"
    }
   ],
   "source": [
    "# Visualise GARCH volatility and VIX\n",
    "plt.title('Annualized Volatility')\n",
    "plt.plot(returns.index, ann_vol, color='orange', label='GARCH')\n",
    "plt.plot(returns.index, df['VIX'], color='blue', label = 'VIX')\n",
    "plt.legend(loc=2)\n",
    "plt.grid(True)"
   ]
  },
  {
   "cell_type": "markdown",
   "metadata": {},
   "source": [
    "\n",
    "<h3 id=\"N-day-Forecast\">N-day Forecast<a class=\"anchor-link\" href=\"#N-day-Forecast\">¶</a></h3><p>Extending the GARCH(1,1) model to forecast future volatility, we can derive the n-days ahead forecast using the following equation.</p>\n",
    "$$\n",
    "E[\\sigma^2_{n+k}] = \\overline{\\sigma}\\space{^2} + (\\alpha+\\beta)^k * (\\sigma^2_n - \\overline{\\sigma}\\space{^2})\n",
    "$$<p>where, $\\overline{\\sigma}\\space{^2}$ is the long run variance and $\\alpha$ and $\\beta$ are GARCH parameters.</p>\n",
    "<p>We know that volatility has the tendency to revert to its long run range. And, $\\alpha + \\beta < 1$ in GARCH(1,1) and hence when k gets larger, the second term gets smaller and the forecast tends towards the long term variance.</p>\n"
   ]
  },
  {
   "cell_type": "code",
   "execution_count": 21,
   "metadata": {},
   "outputs": [],
   "source": [
    "# Calculate N-day forecast\n",
    "longrun_variance = omega/(1-alpha-beta)\n",
    " \n",
    "fvar = []\n",
    "for i in range(1,732):    \n",
    "    fvar.append(longrun_variance + (alpha+beta)**i * (var[-1] - longrun_variance))\n",
    "\n",
    "var = np.array(fvar)"
   ]
  },
  {
   "cell_type": "code",
   "execution_count": 22,
   "metadata": {},
   "outputs": [
    {
     "data": {
      "text/plain": [
       "array([7.20147969e-05, 7.21430440e-05, 7.22706906e-05, 7.23977395e-05,\n",
       "       7.25241936e-05, 7.26500556e-05, 7.27753282e-05, 7.29000143e-05,\n",
       "       7.30241166e-05, 7.31476378e-05])"
      ]
     },
     "execution_count": 22,
     "metadata": {},
     "output_type": "execute_result"
    }
   ],
   "source": [
    "# Verify first 10 values\n",
    "var[:10]"
   ]
  },
  {
   "cell_type": "code",
   "execution_count": 23,
   "metadata": {},
   "outputs": [
    {
     "data": {
      "image/png": "[encoded data removed]",
      "text/plain": [
       "<Figure size 432x288 with 1 Axes>"
      ]
     },
     "metadata": {
      "needs_background": "light"
     },
     "output_type": "display_data"
    }
   ],
   "source": [
    "# Plot volatility forecast over different time horizon\n",
    "plt.axhline(y=np.sqrt(longrun_variance*252)*100, color='blue')\n",
    "plt.plot(np.sqrt(var*252)*100, color='red')\n",
    "\n",
    "plt.xlabel('Horizon (in days)')\n",
    "plt.ylabel('Volatility (%)')\n",
    "\n",
    "plt.annotate('GARCH Forecast', xy=(650,15.60), color='red')\n",
    "plt.annotate('Longrun Volatility =' + str(np.around(np.sqrt(longrun_variance*252)*100,2)) + '%', \n",
    "             xy=(0,15.70), color='blue')\n",
    "\n",
    "plt.title('Volatility Forecast : N-days Ahead')\n",
    "plt.grid(axis='x')"
   ]
  },
  {
   "cell_type": "markdown",
   "metadata": {},
   "source": [
    "\n",
    "<h2 id=\"ARCH-Toolbox\">ARCH Toolbox<a class=\"anchor-link\" href=\"#ARCH-Toolbox\">¶</a></h2><p>ARCH is one of the popular tools used for financial econometrics, written in Python - with Cython and/or Numba used to improve performance. We will now use <code>arch_model</code> to fit our GARCH model using this package.</p>\n"
   ]
  },
  {
   "cell_type": "code",
   "execution_count": 26,
   "metadata": {},
   "outputs": [],
   "source": [
    "# Import arch library\n",
    "from arch import arch_model"
   ]
  },
  {
   "cell_type": "code",
   "execution_count": 25,
   "metadata": {},
   "outputs": [
    {
     "name": "stdout",
     "output_type": "stream",
     "text": [
      "Collecting arch\n",
      "\u001b[?25l  Downloading https://files.pythonhosted.org/packages/83/65/be353123b2c9be3256bd1516346aac97b63f7b34431382eb3785bb91fe28/arch-4.15-cp37-cp37m-macosx_10_9_x86_64.whl (783kB)\n",
      "\u001b[K     |████████████████████████████████| 788kB 3.4MB/s eta 0:00:01\n",
      "\u001b[?25hRequirement already satisfied: pandas>=0.23 in /Users/aq/anaconda3/lib/python3.7/site-packages (from arch) (0.24.2)\n",
      "Collecting cython>=0.29.14 (from arch)\n",
      "\u001b[?25l  Downloading https://files.pythonhosted.org/packages/2b/4d/899fb0967be8b02bdbc47f892b48f576f9c2d28f7d49710bcecf9ed1c705/Cython-0.29.21-cp37-cp37m-macosx_10_9_x86_64.whl (1.9MB)\n",
      "\u001b[K     |████████████████████████████████| 1.9MB 20.7MB/s eta 0:00:01\n",
      "\u001b[?25hRequirement already satisfied: scipy>=1.0.1 in /Users/aq/anaconda3/lib/python3.7/site-packages (from arch) (1.3.0)\n",
      "Requirement already satisfied: statsmodels>=0.9 in /Users/aq/anaconda3/lib/python3.7/site-packages (from arch) (0.10.0)\n",
      "Requirement already satisfied: numpy>=1.14 in /Users/aq/anaconda3/lib/python3.7/site-packages (from arch) (1.16.4)\n",
      "Collecting property-cached>=1.6.3 (from arch)\n",
      "  Downloading https://files.pythonhosted.org/packages/5c/6c/94d8e520b20a2502e508e1c558f338061cf409cbee78fd6a3a5c6ae812bd/property_cached-1.6.4-py2.py3-none-any.whl\n",
      "Requirement already satisfied: python-dateutil>=2.5.0 in /Users/aq/anaconda3/lib/python3.7/site-packages (from pandas>=0.23->arch) (2.8.0)\n",
      "Requirement already satisfied: pytz>=2011k in /Users/aq/anaconda3/lib/python3.7/site-packages (from pandas>=0.23->arch) (2019.1)\n",
      "Requirement already satisfied: patsy>=0.4.0 in /Users/aq/anaconda3/lib/python3.7/site-packages (from statsmodels>=0.9->arch) (0.5.1)\n",
      "Requirement already satisfied: six>=1.5 in /Users/aq/anaconda3/lib/python3.7/site-packages (from python-dateutil>=2.5.0->pandas>=0.23->arch) (1.12.0)\n",
      "Installing collected packages: cython, property-cached, arch\n",
      "  Found existing installation: Cython 0.29.12\n",
      "    Uninstalling Cython-0.29.12:\n",
      "      Successfully uninstalled Cython-0.29.12\n",
      "Successfully installed arch-4.15 cython-0.29.21 property-cached-1.6.4\n",
      "Note: you may need to restart the kernel to use updated packages.\n"
     ]
    }
   ],
   "source": [
    "pip install arch"
   ]
  },
  {
   "cell_type": "code",
   "execution_count": 27,
   "metadata": {},
   "outputs": [],
   "source": [
    "# Mean zero\n",
    "g1 = arch_model(returns, vol='GARCH', mean='Zero', p=1, o=0, q=1, dist='Normal')"
   ]
  },
  {
   "cell_type": "code",
   "execution_count": 28,
   "metadata": {},
   "outputs": [
    {
     "name": "stdout",
     "output_type": "stream",
     "text": [
      "Iteration:      1,   Func. Count:      5,   Neg. LLF: -8585.448810648937\n",
      "Iteration:      2,   Func. Count:     14,   Neg. LLF: -8586.069358190143\n",
      "Iteration:      3,   Func. Count:     20,   Neg. LLF: -8588.393939229207\n",
      "Positive directional derivative for linesearch    (Exit mode 8)\n",
      "            Current function value: -8588.393940307446\n",
      "            Iterations: 7\n",
      "            Function evaluations: 20\n",
      "            Gradient evaluations: 3\n"
     ]
    },
    {
     "name": "stderr",
     "output_type": "stream",
     "text": [
      "/Users/aq/anaconda3/lib/python3.7/site-packages/arch/univariate/base.py:709: ConvergenceWarning: The optimizer returned code 8. The message is:\n",
      "Positive directional derivative for linesearch\n",
      "See scipy.optimize.fmin_slsqp for code meaning.\n",
      "\n",
      "  ConvergenceWarning,\n"
     ]
    }
   ],
   "source": [
    "model = g1.fit()"
   ]
  },
  {
   "cell_type": "code",
   "execution_count": 29,
   "metadata": {},
   "outputs": [
    {
     "name": "stdout",
     "output_type": "stream",
     "text": [
      "                       Zero Mean - GARCH Model Results                        \n",
      "==============================================================================\n",
      "Dep. Variable:                S&P 500   R-squared:                       0.000\n",
      "Mean Model:                 Zero Mean   Adj. R-squared:                  0.000\n",
      "Vol Model:                      GARCH   Log-Likelihood:                8588.39\n",
      "Distribution:                  Normal   AIC:                          -17170.8\n",
      "Method:            Maximum Likelihood   BIC:                          -17153.3\n",
      "                                        No. Observations:                 2528\n",
      "Date:                Wed, Aug 12 2020   Df Residuals:                     2525\n",
      "Time:                        20:52:18   Df Model:                            3\n",
      "                              Volatility Model                              \n",
      "============================================================================\n",
      "                 coef    std err          t      P>|t|      95.0% Conf. Int.\n",
      "----------------------------------------------------------------------------\n",
      "omega      1.6961e-06  1.577e-09   1075.827      0.000 [1.693e-06,1.699e-06]\n",
      "alpha[1]       0.0901  1.911e-02      4.715  2.414e-06   [5.266e-02,  0.128]\n",
      "beta[1]        0.8920  1.575e-02     56.640      0.000     [  0.861,  0.923]\n",
      "============================================================================\n",
      "\n",
      "Covariance estimator: robust\n",
      "WARNING: The optimizer did not indicate successful convergence. The message was Positive directional derivative for linesearch.\n",
      "See convergence_flag.\n",
      "\n"
     ]
    }
   ],
   "source": [
    "# Model output\n",
    "print(model)"
   ]
  },
  {
   "cell_type": "code",
   "execution_count": 30,
   "metadata": {},
   "outputs": [
    {
     "data": {
      "text/plain": [
       "omega       0.000002\n",
       "alpha[1]    0.090115\n",
       "beta[1]     0.892040\n",
       "Name: params, dtype: float64"
      ]
     },
     "execution_count": 30,
     "metadata": {},
     "output_type": "execute_result"
    }
   ],
   "source": [
    "# Model params\n",
    "model.params"
   ]
  },
  {
   "cell_type": "code",
   "execution_count": 31,
   "metadata": {},
   "outputs": [
    {
     "data": {
      "image/png": "[encoded data removed]",
      "text/plain": [
       "<Figure size 432x288 with 2 Axes>"
      ]
     },
     "metadata": {
      "needs_background": "light"
     },
     "output_type": "display_data"
    }
   ],
   "source": [
    "# Plot annualised vol\n",
    "fig = model.plot(annualize='D')"
   ]
  },
  {
   "cell_type": "code",
   "execution_count": 33,
   "metadata": {},
   "outputs": [
    {
     "data": {
      "text/plain": [
       "DATE\n",
       "1990-01-02    0.158414\n",
       "1990-01-03    0.151040\n",
       "1990-01-04    0.144663\n",
       "1990-01-05    0.143631\n",
       "1990-01-08    0.144926\n",
       "1990-01-09    0.140148\n",
       "1990-01-10    0.145378\n",
       "1990-01-11    0.142389\n",
       "1990-01-12    0.137087\n",
       "1990-01-15    0.176553\n",
       "1990-01-16    0.173017\n",
       "1990-01-17    0.173017\n",
       "1990-01-18    0.171258\n",
       "1990-01-19    0.163445\n",
       "1990-01-22    0.156347\n",
       "1990-01-23    0.194158\n",
       "1990-01-24    0.185390\n",
       "1990-01-25    0.206352\n",
       "1990-01-26    0.198028\n",
       "1990-01-29    0.188208\n",
       "1990-01-30    0.179126\n",
       "1990-01-31    0.173314\n",
       "1990-02-01    0.187551\n",
       "1990-02-02    0.178374\n",
       "1990-02-05    0.172636\n",
       "1990-02-06    0.165214\n",
       "1990-02-07    0.160205\n",
       "1990-02-08    0.163970\n",
       "1990-02-09    0.156629\n",
       "1990-02-12    0.149822\n",
       "                ...   \n",
       "1999-11-18    0.172258\n",
       "1999-11-19    0.170904\n",
       "1999-11-22    0.163030\n",
       "1999-11-23    0.155400\n",
       "1999-11-24    0.158012\n",
       "1999-11-26    0.156424\n",
       "1999-11-29    0.149184\n",
       "1999-11-30    0.145314\n",
       "1999-12-01    0.153010\n",
       "1999-12-02    0.149273\n",
       "1999-12-03    0.147597\n",
       "1999-12-06    0.162722\n",
       "1999-12-07    0.158597\n",
       "1999-12-08    0.158475\n",
       "1999-12-09    0.152107\n",
       "1999-12-10    0.145856\n",
       "1999-12-13    0.142523\n",
       "1999-12-14    0.136289\n",
       "1999-12-15    0.136573\n",
       "1999-12-16    0.135117\n",
       "1999-12-17    0.130611\n",
       "1999-12-20    0.125313\n",
       "1999-12-21    0.120544\n",
       "1999-12-22    0.126578\n",
       "1999-12-23    0.121698\n",
       "1999-12-27    0.137821\n",
       "1999-12-28    0.131863\n",
       "1999-12-29    0.126259\n",
       "1999-12-30    0.122597\n",
       "1999-12-31    0.117670\n",
       "Name: cond_vol, Length: 2528, dtype: float64"
      ]
     },
     "execution_count": 33,
     "metadata": {},
     "output_type": "execute_result"
    }
   ],
   "source": [
    "model.conditional_volatility*np.sqrt(252)"
   ]
  },
  {
   "cell_type": "code",
   "execution_count": 34,
   "metadata": {},
   "outputs": [],
   "source": [
    "# Constant mean\n",
    "g2 = arch_model(returns, vol='GARCH', mean='Constant', p=1, o=0, q=1, dist='Normal')"
   ]
  },
  {
   "cell_type": "code",
   "execution_count": 35,
   "metadata": {},
   "outputs": [
    {
     "name": "stdout",
     "output_type": "stream",
     "text": [
      "                     Constant Mean - GARCH Model Results                      \n",
      "==============================================================================\n",
      "Dep. Variable:                S&P 500   R-squared:                      -0.000\n",
      "Mean Model:             Constant Mean   Adj. R-squared:                 -0.000\n",
      "Vol Model:                      GARCH   Log-Likelihood:                8598.87\n",
      "Distribution:                  Normal   AIC:                          -17189.7\n",
      "Method:            Maximum Likelihood   BIC:                          -17166.4\n",
      "                                        No. Observations:                 2528\n",
      "Date:                Wed, Aug 12 2020   Df Residuals:                     2524\n",
      "Time:                        21:06:19   Df Model:                            4\n",
      "                                 Mean Model                                 \n",
      "============================================================================\n",
      "                 coef    std err          t      P>|t|      95.0% Conf. Int.\n",
      "----------------------------------------------------------------------------\n",
      "mu         7.4043e-04  8.991e-06     82.350      0.000 [7.228e-04,7.581e-04]\n",
      "                              Volatility Model                              \n",
      "============================================================================\n",
      "                 coef    std err          t      P>|t|      95.0% Conf. Int.\n",
      "----------------------------------------------------------------------------\n",
      "omega      1.5799e-06  4.945e-12  3.195e+05      0.000 [1.580e-06,1.580e-06]\n",
      "alpha[1]       0.1000  2.190e-02      4.567  4.957e-06   [5.708e-02,  0.143]\n",
      "beta[1]        0.8800  1.871e-02     47.029      0.000     [  0.843,  0.917]\n",
      "============================================================================\n",
      "\n",
      "Covariance estimator: robust\n",
      "WARNING: The optimizer did not indicate successful convergence. The message was Positive directional derivative for linesearch.\n",
      "See convergence_flag.\n",
      "\n"
     ]
    },
    {
     "name": "stderr",
     "output_type": "stream",
     "text": [
      "/Users/aq/anaconda3/lib/python3.7/site-packages/arch/univariate/base.py:709: ConvergenceWarning: The optimizer returned code 8. The message is:\n",
      "Positive directional derivative for linesearch\n",
      "See scipy.optimize.fmin_slsqp for code meaning.\n",
      "\n",
      "  ConvergenceWarning,\n"
     ]
    }
   ],
   "source": [
    "# Model output\n",
    "model2 = g2.fit(disp='off')\n",
    "print(model2)"
   ]
  },
  {
   "cell_type": "code",
   "execution_count": 36,
   "metadata": {},
   "outputs": [],
   "source": [
    "# Forecast for next 60 days\n",
    "model_forecast = model.forecast(horizon=60)"
   ]
  },
  {
   "cell_type": "code",
   "execution_count": 37,
   "metadata": {},
   "outputs": [
    {
     "data": {
      "text/html": [
       "<div>\n",
       "<style scoped>\n",
       "    .dataframe tbody tr th:only-of-type {\n",
       "        vertical-align: middle;\n",
       "    }\n",
       "\n",
       "    .dataframe tbody tr th {\n",
       "        vertical-align: top;\n",
       "    }\n",
       "\n",
       "    .dataframe thead th {\n",
       "        text-align: right;\n",
       "    }\n",
       "</style>\n",
       "<table border=\"1\" class=\"dataframe\">\n",
       "  <thead>\n",
       "    <tr style=\"text-align: right;\">\n",
       "      <th></th>\n",
       "      <th>Cond_Vol</th>\n",
       "    </tr>\n",
       "  </thead>\n",
       "  <tbody>\n",
       "    <tr>\n",
       "      <th>h.01</th>\n",
       "      <td>11.411012</td>\n",
       "    </tr>\n",
       "    <tr>\n",
       "      <th>h.02</th>\n",
       "      <td>11.496164</td>\n",
       "    </tr>\n",
       "    <tr>\n",
       "      <th>h.03</th>\n",
       "      <td>11.579188</td>\n",
       "    </tr>\n",
       "    <tr>\n",
       "      <th>h.04</th>\n",
       "      <td>11.660155</td>\n",
       "    </tr>\n",
       "    <tr>\n",
       "      <th>h.05</th>\n",
       "      <td>11.739133</td>\n",
       "    </tr>\n",
       "  </tbody>\n",
       "</table>\n",
       "</div>"
      ],
      "text/plain": [
       "       Cond_Vol\n",
       "h.01  11.411012\n",
       "h.02  11.496164\n",
       "h.03  11.579188\n",
       "h.04  11.660155\n",
       "h.05  11.739133"
      ]
     },
     "execution_count": 37,
     "metadata": {},
     "output_type": "execute_result"
    }
   ],
   "source": [
    "# Subsume forecast values into a dataframe\n",
    "forecast_df = pd.DataFrame(np.sqrt(model_forecast.variance.dropna().T *252)*100)\n",
    "forecast_df.columns = ['Cond_Vol']\n",
    "forecast_df.head()"
   ]
  },
  {
   "cell_type": "code",
   "execution_count": 38,
   "metadata": {},
   "outputs": [
    {
     "data": {
      "text/plain": [
       "15.476530711084429"
      ]
     },
     "execution_count": 38,
     "metadata": {},
     "output_type": "execute_result"
    }
   ],
   "source": [
    "# long run variance from model forecast\n",
    "lrv = model.params[0]/(1-model.params[1]-model.params[2])\n",
    "\n",
    "# long run variance\n",
    "np.sqrt(lrv*252)*100"
   ]
  },
  {
   "cell_type": "code",
   "execution_count": 39,
   "metadata": {},
   "outputs": [
    {
     "data": {
      "image/png": "[encoded data removed]",
      "text/plain": [
       "<Figure size 432x288 with 1 Axes>"
      ]
     },
     "metadata": {
      "needs_background": "light"
     },
     "output_type": "display_data"
    }
   ],
   "source": [
    "# Plot volatility forecast over a 60-day horizon\n",
    "plt.plot(forecast_df, color='blue')\n",
    "plt.xlim(0,60)\n",
    "plt.xticks(rotation=90)\n",
    "plt.xlabel('Horizon (in days)')\n",
    "plt.ylabel('Volatility (%)')\n",
    "plt.title('Volatility Forecast : 60-days Ahead');\n",
    "plt.grid(True)"
   ]
  },
  {
   "cell_type": "markdown",
   "metadata": {},
   "source": [
    "\n",
    "<h1 id=\"References\">References<a class=\"anchor-link\" href=\"#References\">¶</a></h1><ul>\n",
    "<li><p>Scipy documentation <a href=\"https://docs.scipy.org/doc/scipy/reference/\">https://docs.scipy.org/doc/scipy/reference/</a></p>\n",
    "</li>\n",
    "<li><p>Arch documentation <a href=\"https://arch.readthedocs.io/en/latest/index.html\">https://arch.readthedocs.io/en/latest/index.html</a></p>\n",
    "</li>\n",
    "</ul>\n"
   ]
  }
 ],
 "metadata": {
  "kernelspec": {
   "display_name": "Python 3",
   "language": "python",
   "name": "python3"
  },
  "language_info": {
   "codemirror_mode": {
    "name": "ipython",
    "version": 3
   },
   "file_extension": ".py",
   "mimetype": "text/x-python",
   "name": "python",
   "nbconvert_exporter": "python",
   "pygments_lexer": "ipython3",
   "version": "3.7.3"
  }
 },
 "nbformat": 4,
 "nbformat_minor": 1
}
