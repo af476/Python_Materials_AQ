{
 "cells": [
  {
   "cell_type": "markdown",
   "metadata": {},
   "source": [
    "\n",
    "<h2 id=\"Value-at-Risk\">Value-at-Risk<a class=\"anchor-link\" href=\"#Value-at-Risk\">¶</a></h2><p>Value at Risk - <strong>VaR</strong> - is one of the most important metrics that is used to measures the risk associated with a financial position or a portfolio of financial instruments. VaR can be defined as the maximum loss with a confidence level over a predetermined period. Let's say that the 1-day 95% VaR of our portfolio is $\\$100$. This means that 95% of the time, it is expected that - under normal market conditions - we will not lose more than $100 by holding our portfolio over one day.</p>\n",
    "<p>Three approaches that are commonly used in the industry are</p>\n",
    "<ul>\n",
    "<li><strong>Parametric</strong></li>\n",
    "<li><strong>Historical Simulation</strong> </li>\n",
    "<li><strong>Monte Carlo Simulation</strong></li>\n",
    "</ul>\n"
   ]
  },
  {
   "cell_type": "markdown",
   "metadata": {},
   "source": [
    "\n",
    "<h3 id=\"Import-Libraries\">Import Libraries<a class=\"anchor-link\" href=\"#Import-Libraries\">¶</a></h3>\n"
   ]
  },
  {
   "cell_type": "code",
   "execution_count": 2,
   "metadata": {},
   "outputs": [
    {
     "name": "stdout",
     "output_type": "stream",
     "text": [
      "Collecting tabulate\n",
      "  Downloading https://files.pythonhosted.org/packages/c4/f4/770ae9385990f5a19a91431163d262182d3203662ea2b5739d0fcfc080f1/tabulate-0.8.7-py3-none-any.whl\n",
      "Installing collected packages: tabulate\n",
      "Successfully installed tabulate-0.8.7\n",
      "Note: you may need to restart the kernel to use updated packages.\n"
     ]
    }
   ],
   "source": [
    "pip install tabulate"
   ]
  },
  {
   "cell_type": "code",
   "execution_count": 3,
   "metadata": {},
   "outputs": [],
   "source": [
    "import pandas as pd\n",
    "import numpy as np\n",
    "from numpy.linalg import multi_dot\n",
    "\n",
    "from scipy.stats import norm\n",
    "from tabulate import tabulate\n",
    "\n",
    "import matplotlib.pyplot as plt"
   ]
  },
  {
   "cell_type": "markdown",
   "metadata": {},
   "source": [
    "\n",
    "<h3 id=\"Retrieve-Data\">Retrieve Data<a class=\"anchor-link\" href=\"#Retrieve-Data\">¶</a></h3><p>We will use the FAANG stocks as before to build for calculation of VaR</p>\n"
   ]
  },
  {
   "cell_type": "code",
   "execution_count": 6,
   "metadata": {},
   "outputs": [
    {
     "data": {
      "text/html": [
       "<div>\n",
       "<style scoped>\n",
       "    .dataframe tbody tr th:only-of-type {\n",
       "        vertical-align: middle;\n",
       "    }\n",
       "\n",
       "    .dataframe tbody tr th {\n",
       "        vertical-align: top;\n",
       "    }\n",
       "\n",
       "    .dataframe thead th {\n",
       "        text-align: right;\n",
       "    }\n",
       "</style>\n",
       "<table border=\"1\" class=\"dataframe\">\n",
       "  <thead>\n",
       "    <tr style=\"text-align: right;\">\n",
       "      <th></th>\n",
       "      <th>AAPL</th>\n",
       "      <th>AMZN</th>\n",
       "      <th>FB</th>\n",
       "      <th>GOOG</th>\n",
       "      <th>NFLX</th>\n",
       "    </tr>\n",
       "    <tr>\n",
       "      <th>Date</th>\n",
       "      <th></th>\n",
       "      <th></th>\n",
       "      <th></th>\n",
       "      <th></th>\n",
       "      <th></th>\n",
       "    </tr>\n",
       "  </thead>\n",
       "  <tbody>\n",
       "    <tr>\n",
       "      <th>2013-01-02</th>\n",
       "      <td>68.502106</td>\n",
       "      <td>257.309998</td>\n",
       "      <td>28.000000</td>\n",
       "      <td>360.274597</td>\n",
       "      <td>13.144286</td>\n",
       "    </tr>\n",
       "    <tr>\n",
       "      <th>2013-01-03</th>\n",
       "      <td>67.637436</td>\n",
       "      <td>258.480011</td>\n",
       "      <td>27.770000</td>\n",
       "      <td>360.483826</td>\n",
       "      <td>13.798572</td>\n",
       "    </tr>\n",
       "    <tr>\n",
       "      <th>2013-01-04</th>\n",
       "      <td>65.753418</td>\n",
       "      <td>259.149994</td>\n",
       "      <td>28.760000</td>\n",
       "      <td>367.607117</td>\n",
       "      <td>13.711429</td>\n",
       "    </tr>\n",
       "    <tr>\n",
       "      <th>2013-01-07</th>\n",
       "      <td>65.366646</td>\n",
       "      <td>268.459991</td>\n",
       "      <td>29.420000</td>\n",
       "      <td>366.003143</td>\n",
       "      <td>14.171429</td>\n",
       "    </tr>\n",
       "    <tr>\n",
       "      <th>2013-01-08</th>\n",
       "      <td>65.542587</td>\n",
       "      <td>266.380005</td>\n",
       "      <td>29.059999</td>\n",
       "      <td>365.280823</td>\n",
       "      <td>13.880000</td>\n",
       "    </tr>\n",
       "  </tbody>\n",
       "</table>\n",
       "</div>"
      ],
      "text/plain": [
       "                 AAPL        AMZN         FB        GOOG       NFLX\n",
       "Date                                                               \n",
       "2013-01-02  68.502106  257.309998  28.000000  360.274597  13.144286\n",
       "2013-01-03  67.637436  258.480011  27.770000  360.483826  13.798572\n",
       "2013-01-04  65.753418  259.149994  28.760000  367.607117  13.711429\n",
       "2013-01-07  65.366646  268.459991  29.420000  366.003143  14.171429\n",
       "2013-01-08  65.542587  266.380005  29.059999  365.280823  13.880000"
      ]
     },
     "execution_count": 6,
     "metadata": {},
     "output_type": "execute_result"
    }
   ],
   "source": [
    "# Load locally stored data\n",
    "df = pd.read_csv('faang_stocks.csv', parse_dates=True, index_col=0)['2013':]\n",
    "\n",
    "# Check first 5 values \n",
    "df.head()"
   ]
  },
  {
   "cell_type": "markdown",
   "metadata": {},
   "source": [
    "\n",
    "<h3 id=\"Calculate-Returns\">Calculate Returns<a class=\"anchor-link\" href=\"#Calculate-Returns\">¶</a></h3>\n"
   ]
  },
  {
   "cell_type": "code",
   "execution_count": 7,
   "metadata": {},
   "outputs": [],
   "source": [
    "# Calculate daily returns\n",
    "returns = df.pct_change().dropna()"
   ]
  },
  {
   "cell_type": "code",
   "execution_count": 8,
   "metadata": {},
   "outputs": [
    {
     "name": "stderr",
     "output_type": "stream",
     "text": [
      "/Users/aq/anaconda3/lib/python3.7/site-packages/pandas/plotting/_converter.py:129: FutureWarning: Using an implicitly registered datetime converter for a matplotlib plotting method. The converter was registered by pandas on import. Future versions of pandas will require you to explicitly register matplotlib converters.\n",
      "\n",
      "To register the converters:\n",
      "\t>>> from pandas.plotting import register_matplotlib_converters\n",
      "\t>>> register_matplotlib_converters()\n",
      "  warnings.warn(msg, FutureWarning)\n"
     ]
    },
    {
     "data": {
      "image/png": "[encoded data removed]",
      "text/plain": [
       "<Figure size 432x288 with 1 Axes>"
      ]
     },
     "metadata": {
      "needs_background": "light"
     },
     "output_type": "display_data"
    }
   ],
   "source": [
    "# Visualize AMZN daily returns\n",
    "plt.plot(returns['AMZN'], color='orange')\n",
    "plt.axhline(y=0.10, ls='dotted', color='black')\n",
    "plt.axhline(y=-0.10, ls='dotted', color='black')\n",
    "plt.title('AMZN Daily Returns')\n",
    "plt.grid(True)"
   ]
  },
  {
   "cell_type": "markdown",
   "metadata": {},
   "source": [
    "\n",
    "<h3 id=\"Parametric-VaR\">Parametric VaR<a class=\"anchor-link\" href=\"#Parametric-VaR\">¶</a></h3><p>The Variance-covariance is a parametric method which assumes (almost always) that the returns are normally distributed. In this method, we first calculate the mean and standard deviation of the returns to derive the risk metric. Based on the assumption of normality, we can generalise,\n",
    "<br/><br/>\n",
    "$$ VaR = position * (\\mu - z * \\sigma) $$</p>\n",
    "<table>\n",
    "<thead><tr>\n",
    "<th style=\"text-align:left\">Confidence Level</th>\n",
    "<th style=\"text-align:left\">Value At Risk     </th>\n",
    "</tr>\n",
    "</thead>\n",
    "<tbody>\n",
    "<tr>\n",
    "<td style=\"text-align:left\"><code>90%</code></td>\n",
    "<td style=\"text-align:left\">$\\mu$ - $1.29$ * $\\sigma$ </td>\n",
    "</tr>\n",
    "<tr>\n",
    "<td style=\"text-align:left\"><code>95%</code></td>\n",
    "<td style=\"text-align:left\">$\\mu$ - $1.64$ * $\\sigma$             </td>\n",
    "</tr>\n",
    "<tr>\n",
    "<td style=\"text-align:left\"><code>99%</code></td>\n",
    "<td style=\"text-align:left\">$\\mu$ - $2.33$ * $\\sigma$             </td>\n",
    "</tr>\n",
    "</tbody>\n",
    "</table>\n",
    "<p>where, $\\mu$ is the return, $\\sigma$ is the volatility and $z$ is the number of standard deviation from the mean.</p>\n"
   ]
  },
  {
   "cell_type": "code",
   "execution_count": 9,
   "metadata": {},
   "outputs": [],
   "source": [
    "# Calculate mean and standard deviation \n",
    "mean = np.mean(returns['AMZN'])\n",
    "stdev = np.std(returns['AMZN'])\n",
    "\n",
    "# Calculate VaR at difference confidence level\n",
    "VaR_90 = norm.ppf(1-0.90,mean,stdev)\n",
    "VaR_95 = norm.ppf(1-0.95,mean,stdev) #norm.ppf(0.05)\n",
    "VaR_99 = norm.ppf(1-0.99,mean,stdev)"
   ]
  },
  {
   "cell_type": "code",
   "execution_count": 10,
   "metadata": {},
   "outputs": [
    {
     "name": "stdout",
     "output_type": "stream",
     "text": [
      "Confidence Level      Value At Risk\n",
      "------------------  ---------------\n",
      "90%                      -0.0230125\n",
      "95%                      -0.0299292\n",
      "99%                      -0.0429039\n"
     ]
    }
   ],
   "source": [
    "# Ouput results in tabular format\n",
    "table = [['90%', VaR_90],['95%', VaR_95],['99%', VaR_99] ]\n",
    "header = ['Confidence Level', 'Value At Risk']\n",
    "print(tabulate(table,headers=header))"
   ]
  },
  {
   "cell_type": "markdown",
   "metadata": {},
   "source": [
    "\n",
    "<p>Lets now define a VaR function so that we can use it calculate it for individual stocks</p>\n"
   ]
  },
  {
   "cell_type": "code",
   "execution_count": 11,
   "metadata": {},
   "outputs": [],
   "source": [
    "# VaR function\n",
    "def VaR(symbol, cl=0.95):\n",
    "    mean = np.mean(returns[symbol])\n",
    "    stdev = np.std(returns[symbol])\n",
    "    \n",
    "    return np.around(100*norm.ppf(1-cl,mean,stdev),4)"
   ]
  },
  {
   "cell_type": "code",
   "execution_count": 12,
   "metadata": {},
   "outputs": [
    {
     "name": "stdout",
     "output_type": "stream",
     "text": [
      "VaR for FAANG Stocks\n",
      "---------------------------------\n",
      "VaR at 95% CL for AAPL : -2.7758%\n",
      "VaR at 95% CL for AMZN : -2.9929%\n",
      "VaR at 95% CL for FB   : -3.4005%\n",
      "VaR at 95% CL for GOOG : -2.5582%\n",
      "VaR at 95% CL for NFLX : -4.5729%\n"
     ]
    }
   ],
   "source": [
    "# VaR for stocks\n",
    "print('VaR for FAANG Stocks')\n",
    "print('---'*11)\n",
    "[print(f'VaR at 95% CL for {stock:4} : {VaR(stock)}%') for stock in df.columns][0]"
   ]
  },
  {
   "attachments": {
    "image.png": {
     "image/png": "[encoded data removed]"
    }
   },
   "cell_type": "markdown",
   "metadata": {},
   "source": [
    "**Visualize VaR at 95% confidence level**\n",
    "\n",
    "download.png![image.png](attachment:image.png)"
   ]
  },
  {
   "cell_type": "markdown",
   "metadata": {},
   "source": [
    "\n",
    "<p>Now, let's assume that we have 1,000 shares of AMZN's stock on April 29, 2020. What is the maximum loss next day with a confidence level of 99%?</p>\n"
   ]
  },
  {
   "cell_type": "code",
   "execution_count": 15,
   "metadata": {},
   "outputs": [
    {
     "name": "stdout",
     "output_type": "stream",
     "text": [
      "Amazon Holding Value: 2372709.9609375\n",
      "Amazon VaR at 99% confidence level is: -101798.41813580536\n"
     ]
    }
   ],
   "source": [
    "num_of_shares = 1000\n",
    "price = df['AMZN'].iloc[-1]\n",
    "position = num_of_shares * price \n",
    "\n",
    "amzn_var = position * VaR_99\n",
    "\n",
    "print(f'Amazon Holding Value: {position}')\n",
    "print(f'Amazon VaR at 99% confidence level is: {amzn_var}')"
   ]
  },
  {
   "cell_type": "markdown",
   "metadata": {},
   "source": [
    "\n",
    "<p>VaR can also be calculated using the above formula at 99% confidence level.</p>\n"
   ]
  },
  {
   "cell_type": "code",
   "execution_count": 16,
   "metadata": {},
   "outputs": [
    {
     "data": {
      "text/plain": [
       "-101798.41813580536"
      ]
     },
     "execution_count": 16,
     "metadata": {},
     "output_type": "execute_result"
    }
   ],
   "source": [
    "# VaR calculation by appling direct formulae\n",
    "position * (mean + norm.ppf(1-0.99) * stdev)         # mean-2.33*stdev"
   ]
  },
  {
   "cell_type": "markdown",
   "metadata": {},
   "source": [
    "\n",
    "<h3 id=\"Scaling-VaR\">Scaling VaR<a class=\"anchor-link\" href=\"#Scaling-VaR\">¶</a></h3><p>Now, let's calculate VaR over a 5-day period. To scale it, multiply by square root of time.\n",
    "<br/><br/>\n",
    "$$ VaR = position * (\\mu - z * \\sigma) * \\sqrt{T}$$</p>\n",
    "<p>where, $T$ is the horizon or forecast period.</p>\n"
   ]
  },
  {
   "cell_type": "code",
   "execution_count": 17,
   "metadata": {},
   "outputs": [],
   "source": [
    "forecast_days = 5\n",
    "f_VaR_90 = VaR_90*np.sqrt(forecast_days)\n",
    "f_VaR_95 = VaR_95*np.sqrt(forecast_days)\n",
    "f_VaR_99 = VaR_99*np.sqrt(forecast_days)"
   ]
  },
  {
   "cell_type": "code",
   "execution_count": 18,
   "metadata": {},
   "outputs": [
    {
     "name": "stdout",
     "output_type": "stream",
     "text": [
      "Confidence Level      5-Day Forecast Value At Risk\n",
      "------------------  ------------------------------\n",
      "90%                                     -0.0514574\n",
      "95%                                     -0.0669237\n",
      "99%                                     -0.0959359\n"
     ]
    }
   ],
   "source": [
    "ftable = [['90%', f_VaR_90],['95%', f_VaR_95],['99%', f_VaR_99] ]\n",
    "fheader = ['Confidence Level', '5-Day Forecast Value At Risk']\n",
    "print(tabulate(ftable,headers=fheader))"
   ]
  },
  {
   "cell_type": "markdown",
   "metadata": {},
   "source": [
    "\n",
    "<p>Let's now calculate AMZN VaR over a 5-day period with a confidence level of 99%</p>\n"
   ]
  },
  {
   "cell_type": "code",
   "execution_count": 19,
   "metadata": {},
   "outputs": [
    {
     "name": "stdout",
     "output_type": "stream",
     "text": [
      "Amazon Holding Value: 2372709.9609375\n",
      "Amazon VaR at 99% confidence level is: -227628.1829536082\n"
     ]
    }
   ],
   "source": [
    "amzn_var_5days = position * f_VaR_99\n",
    "\n",
    "print(f'Amazon Holding Value: {position}')\n",
    "print(f'Amazon VaR at 99% confidence level is: {amzn_var_5days}')"
   ]
  },
  {
   "cell_type": "code",
   "execution_count": 20,
   "metadata": {},
   "outputs": [
    {
     "data": {
      "image/png": "[encoded data removed]",
      "text/plain": [
       "<Figure size 576x432 with 1 Axes>"
      ]
     },
     "metadata": {
      "needs_background": "light"
     },
     "output_type": "display_data"
    }
   ],
   "source": [
    "# Scaled VaR over different time horizon\n",
    "plt.figure(figsize=(8,6))\n",
    "plt.plot(range(100),[-100*VaR_95*np.sqrt(x) for x in range(100)])\n",
    "plt.xlabel('Horizon')\n",
    "plt.ylabel('Var 95 (%)')\n",
    "plt.title('VaR_95 Scaled by Time');"
   ]
  },
  {
   "cell_type": "markdown",
   "metadata": {},
   "source": [
    "\n",
    "<h3 id=\"Historical-VaR\">Historical VaR<a class=\"anchor-link\" href=\"#Historical-VaR\">¶</a></h3><p>Asset returns do not necessarily follow a normal distribution. An alternative is to use sorted returns to evaluate a VaR. This method uses historical data where returns are sorted in ascending order to calculate maximum possible loss for a given confidence level.</p>\n"
   ]
  },
  {
   "cell_type": "code",
   "execution_count": 21,
   "metadata": {},
   "outputs": [],
   "source": [
    "# Use quantile function for Historical VaR\n",
    "hVaR_90 = returns['AMZN'].quantile(0.10)\n",
    "hVaR_95 = returns['AMZN'].quantile(0.05)\n",
    "hVaR_99 = returns['AMZN'].quantile(0.01)"
   ]
  },
  {
   "cell_type": "code",
   "execution_count": 22,
   "metadata": {},
   "outputs": [
    {
     "name": "stdout",
     "output_type": "stream",
     "text": [
      "Confidence Level      Value At Risk\n",
      "------------------  ---------------\n",
      "90%                      -0.0176864\n",
      "95%                      -0.0270757\n",
      "99%                      -0.0537678\n"
     ]
    }
   ],
   "source": [
    "htable = [['90%', hVaR_90],['95%', hVaR_95],['99%', hVaR_99]]\n",
    "print(tabulate(htable,headers=header))"
   ]
  },
  {
   "cell_type": "markdown",
   "metadata": {},
   "source": [
    "\n"
   ]
  },
  {
   "cell_type": "markdown",
   "metadata": {},
   "source": [
    "\n",
    "<h3 id=\"Expected-Short-Fall\">Expected Short Fall<a class=\"anchor-link\" href=\"#Expected-Short-Fall\">¶</a></h3><p>VaR is a reasonable measure of risk if assumption of normality holds. Else, we might underestimate the risk if we observe <strong>a fat tail or overestimate the risk if tail is thinner</strong>. Expected shortfall or Conditional Value at Risk - <strong>CVaR</strong> - is an estimate of expected shortfall sustained in the worst 1 - x% of scenarios. It is defined as the average loss based on the returns that are lower than the VaR threshold. Assume that we have <em><code>n</code></em> return observations, then the expected shortfall is\n",
    "<br/><br/>\n",
    "$$ CVaR = \\frac 1 n * \\sum_{i=1}^{n} R_i[R \\leq hVaR_{cl}]$$</p>\n",
    "<p>where, $R$ is returns, $hVaR$ is historical VaR and $cl$ is the confidence level.</p>\n"
   ]
  },
  {
   "cell_type": "code",
   "execution_count": 23,
   "metadata": {},
   "outputs": [],
   "source": [
    "# Calculate CVar\n",
    "CVaR_90 = returns['AMZN'][returns['AMZN']<=hVaR_90].mean()\n",
    "CVaR_95 = returns['AMZN'][returns['AMZN']<=hVaR_95].mean()\n",
    "CVaR_99 = returns['AMZN'][returns['AMZN']<=hVaR_99].mean()"
   ]
  },
  {
   "cell_type": "code",
   "execution_count": 24,
   "metadata": {},
   "outputs": [
    {
     "name": "stdout",
     "output_type": "stream",
     "text": [
      "Confidence Level      Conditional Value At Risk\n",
      "------------------  ---------------------------\n",
      "90%                                  -0.0322919\n",
      "95%                                  -0.0430837\n",
      "99%                                  -0.0709137\n"
     ]
    }
   ],
   "source": [
    "ctable = [['90%', CVaR_90],['95%', CVaR_95],['99%', CVaR_99] ]\n",
    "cheader = ['Confidence Level', 'Conditional Value At Risk']\n",
    "print(tabulate(ctable,headers=cheader))"
   ]
  },
  {
   "cell_type": "markdown",
   "metadata": {},
   "source": [
    "\n",
    "<h3 id=\"MonteCarlo-VaR\">MonteCarlo VaR<a class=\"anchor-link\" href=\"#MonteCarlo-VaR\">¶</a></h3><p>The Monte Carlo simulation approach has a number of similarities to historical simulation. It allows us to use actual historical distributions rather than having to assume normal returns. As returns are assumed to follow a normal distribution, we could generate <em><code>n</code></em> simulated returns with the same mean and standard deviation (derived from the daily returns) and then sorted in ascending order to calculate maximum possible loss for a given confidence level.</p>\n"
   ]
  },
  {
   "cell_type": "code",
   "execution_count": 25,
   "metadata": {},
   "outputs": [],
   "source": [
    "# Set seed for reproducibility\n",
    "np.random.seed(12345)\n",
    "\n",
    "# Number of simulations\n",
    "n_sims = 5000\n",
    "\n",
    "# Simulate returns and sort\n",
    "sim_returns = np.random.normal(mean, stdev, n_sims)\n",
    "\n",
    "# Use percentile function for MCVaR\n",
    "MCVaR_90 = np.percentile(sim_returns,10)\n",
    "MCVaR_95 = np.percentile(sim_returns, 5)\n",
    "MCVaR_99 = np.percentile(sim_returns,1)"
   ]
  },
  {
   "cell_type": "code",
   "execution_count": 26,
   "metadata": {},
   "outputs": [
    {
     "name": "stdout",
     "output_type": "stream",
     "text": [
      "Confidence Level      Value At Risk\n",
      "------------------  ---------------\n",
      "90%                      -0.022716\n",
      "95%                      -0.0296045\n",
      "99%                      -0.0419563\n"
     ]
    }
   ],
   "source": [
    "mctable = [['90%', MCVaR_90],['95%', MCVaR_95],['99%', MCVaR_99]]\n",
    "print(tabulate(mctable,headers=header))"
   ]
  },
  {
   "cell_type": "markdown",
   "metadata": {},
   "source": [
    "\n",
    "<h2 id=\"Portfolio-VaR\">Portfolio VaR<a class=\"anchor-link\" href=\"#Portfolio-VaR\">¶</a></h2><p>If we know the returns and volatilities of all the assets in the portfolio, we can calculate the VaR for the whole portfolio. We will now derive VaR of an equal weighted portfolio of FAANG stocks.</p>\n"
   ]
  },
  {
   "cell_type": "markdown",
   "metadata": {},
   "source": [
    "\n",
    "<h3 id=\"Assign-Weights\">Assign Weights<a class=\"anchor-link\" href=\"#Assign-Weights\">¶</a></h3>\n"
   ]
  },
  {
   "cell_type": "code",
   "execution_count": 27,
   "metadata": {},
   "outputs": [
    {
     "data": {
      "text/plain": [
       "array([[0.2],\n",
       "       [0.2],\n",
       "       [0.2],\n",
       "       [0.2],\n",
       "       [0.2]])"
      ]
     },
     "execution_count": 27,
     "metadata": {},
     "output_type": "execute_result"
    }
   ],
   "source": [
    "wts = np.array([0.2,0.2,0.2,0.2,0.2])[:,np.newaxis]\n",
    "wts"
   ]
  },
  {
   "cell_type": "markdown",
   "metadata": {},
   "source": [
    "\n",
    "<h3 id=\"Portfolio-return\">Portfolio return<a class=\"anchor-link\" href=\"#Portfolio-return\">¶</a></h3>\n"
   ]
  },
  {
   "cell_type": "code",
   "execution_count": 28,
   "metadata": {},
   "outputs": [
    {
     "data": {
      "text/html": [
       "<div>\n",
       "<style scoped>\n",
       "    .dataframe tbody tr th:only-of-type {\n",
       "        vertical-align: middle;\n",
       "    }\n",
       "\n",
       "    .dataframe tbody tr th {\n",
       "        vertical-align: top;\n",
       "    }\n",
       "\n",
       "    .dataframe thead th {\n",
       "        text-align: right;\n",
       "    }\n",
       "</style>\n",
       "<table border=\"1\" class=\"dataframe\">\n",
       "  <thead>\n",
       "    <tr style=\"text-align: right;\">\n",
       "      <th></th>\n",
       "      <th>AAPL</th>\n",
       "      <th>AMZN</th>\n",
       "      <th>FB</th>\n",
       "      <th>GOOG</th>\n",
       "      <th>NFLX</th>\n",
       "    </tr>\n",
       "    <tr>\n",
       "      <th>Date</th>\n",
       "      <th></th>\n",
       "      <th></th>\n",
       "      <th></th>\n",
       "      <th></th>\n",
       "      <th></th>\n",
       "    </tr>\n",
       "  </thead>\n",
       "  <tbody>\n",
       "    <tr>\n",
       "      <th>2013-01-03</th>\n",
       "      <td>-0.012623</td>\n",
       "      <td>0.004547</td>\n",
       "      <td>-0.008214</td>\n",
       "      <td>0.000581</td>\n",
       "      <td>0.049777</td>\n",
       "    </tr>\n",
       "    <tr>\n",
       "      <th>2013-01-04</th>\n",
       "      <td>-0.027855</td>\n",
       "      <td>0.002592</td>\n",
       "      <td>0.035650</td>\n",
       "      <td>0.019760</td>\n",
       "      <td>-0.006315</td>\n",
       "    </tr>\n",
       "    <tr>\n",
       "      <th>2013-01-07</th>\n",
       "      <td>-0.005882</td>\n",
       "      <td>0.035925</td>\n",
       "      <td>0.022949</td>\n",
       "      <td>-0.004363</td>\n",
       "      <td>0.033549</td>\n",
       "    </tr>\n",
       "    <tr>\n",
       "      <th>2013-01-08</th>\n",
       "      <td>0.002692</td>\n",
       "      <td>-0.007748</td>\n",
       "      <td>-0.012237</td>\n",
       "      <td>-0.001974</td>\n",
       "      <td>-0.020565</td>\n",
       "    </tr>\n",
       "    <tr>\n",
       "      <th>2013-01-09</th>\n",
       "      <td>-0.015629</td>\n",
       "      <td>-0.000113</td>\n",
       "      <td>0.052650</td>\n",
       "      <td>0.006573</td>\n",
       "      <td>-0.012865</td>\n",
       "    </tr>\n",
       "  </tbody>\n",
       "</table>\n",
       "</div>"
      ],
      "text/plain": [
       "                AAPL      AMZN        FB      GOOG      NFLX\n",
       "Date                                                        \n",
       "2013-01-03 -0.012623  0.004547 -0.008214  0.000581  0.049777\n",
       "2013-01-04 -0.027855  0.002592  0.035650  0.019760 -0.006315\n",
       "2013-01-07 -0.005882  0.035925  0.022949 -0.004363  0.033549\n",
       "2013-01-08  0.002692 -0.007748 -0.012237 -0.001974 -0.020565\n",
       "2013-01-09 -0.015629 -0.000113  0.052650  0.006573 -0.012865"
      ]
     },
     "execution_count": 28,
     "metadata": {},
     "output_type": "execute_result"
    }
   ],
   "source": [
    "# Stock returns\n",
    "returns[:5]"
   ]
  },
  {
   "cell_type": "code",
   "execution_count": 29,
   "metadata": {},
   "outputs": [
    {
     "data": {
      "text/plain": [
       "array([ 0.00681364,  0.00476646,  0.01643538, ..., -0.00763758,\n",
       "       -0.02829639,  0.04543993])"
      ]
     },
     "execution_count": 29,
     "metadata": {},
     "output_type": "execute_result"
    }
   ],
   "source": [
    "port_ret = np.dot(returns,wts)\n",
    "port_ret.flatten()"
   ]
  },
  {
   "cell_type": "code",
   "execution_count": 30,
   "metadata": {},
   "outputs": [
    {
     "data": {
      "text/plain": [
       "0.0013435993118931643"
      ]
     },
     "execution_count": 30,
     "metadata": {},
     "output_type": "execute_result"
    }
   ],
   "source": [
    "port_mean = port_ret.mean()\n",
    "port_mean"
   ]
  },
  {
   "cell_type": "markdown",
   "metadata": {},
   "source": [
    "\n",
    "<h3 id=\"Portfolio-Volatility\">Portfolio Volatility<a class=\"anchor-link\" href=\"#Portfolio-Volatility\">¶</a></h3>\n"
   ]
  },
  {
   "cell_type": "code",
   "execution_count": 31,
   "metadata": {},
   "outputs": [
    {
     "data": {
      "text/html": [
       "<div>\n",
       "<style scoped>\n",
       "    .dataframe tbody tr th:only-of-type {\n",
       "        vertical-align: middle;\n",
       "    }\n",
       "\n",
       "    .dataframe tbody tr th {\n",
       "        vertical-align: top;\n",
       "    }\n",
       "\n",
       "    .dataframe thead th {\n",
       "        text-align: right;\n",
       "    }\n",
       "</style>\n",
       "<table border=\"1\" class=\"dataframe\">\n",
       "  <thead>\n",
       "    <tr style=\"text-align: right;\">\n",
       "      <th></th>\n",
       "      <th>AAPL</th>\n",
       "      <th>AMZN</th>\n",
       "      <th>FB</th>\n",
       "      <th>GOOG</th>\n",
       "      <th>NFLX</th>\n",
       "    </tr>\n",
       "  </thead>\n",
       "  <tbody>\n",
       "    <tr>\n",
       "      <th>AAPL</th>\n",
       "      <td>0.000304</td>\n",
       "      <td>0.000140</td>\n",
       "      <td>0.000160</td>\n",
       "      <td>0.000148</td>\n",
       "      <td>0.000126</td>\n",
       "    </tr>\n",
       "    <tr>\n",
       "      <th>AMZN</th>\n",
       "      <td>0.000140</td>\n",
       "      <td>0.000363</td>\n",
       "      <td>0.000205</td>\n",
       "      <td>0.000185</td>\n",
       "      <td>0.000243</td>\n",
       "    </tr>\n",
       "    <tr>\n",
       "      <th>FB</th>\n",
       "      <td>0.000160</td>\n",
       "      <td>0.000205</td>\n",
       "      <td>0.000460</td>\n",
       "      <td>0.000192</td>\n",
       "      <td>0.000215</td>\n",
       "    </tr>\n",
       "    <tr>\n",
       "      <th>GOOG</th>\n",
       "      <td>0.000148</td>\n",
       "      <td>0.000185</td>\n",
       "      <td>0.000192</td>\n",
       "      <td>0.000258</td>\n",
       "      <td>0.000195</td>\n",
       "    </tr>\n",
       "    <tr>\n",
       "      <th>NFLX</th>\n",
       "      <td>0.000126</td>\n",
       "      <td>0.000243</td>\n",
       "      <td>0.000215</td>\n",
       "      <td>0.000195</td>\n",
       "      <td>0.000852</td>\n",
       "    </tr>\n",
       "  </tbody>\n",
       "</table>\n",
       "</div>"
      ],
      "text/plain": [
       "          AAPL      AMZN        FB      GOOG      NFLX\n",
       "AAPL  0.000304  0.000140  0.000160  0.000148  0.000126\n",
       "AMZN  0.000140  0.000363  0.000205  0.000185  0.000243\n",
       "FB    0.000160  0.000205  0.000460  0.000192  0.000215\n",
       "GOOG  0.000148  0.000185  0.000192  0.000258  0.000195\n",
       "NFLX  0.000126  0.000243  0.000215  0.000195  0.000852"
      ]
     },
     "execution_count": 31,
     "metadata": {},
     "output_type": "execute_result"
    }
   ],
   "source": [
    "# Covariance matrix\n",
    "returns.cov()"
   ]
  },
  {
   "cell_type": "code",
   "execution_count": 32,
   "metadata": {},
   "outputs": [
    {
     "data": {
      "text/plain": [
       "0.015303544566859555"
      ]
     },
     "execution_count": 32,
     "metadata": {},
     "output_type": "execute_result"
    }
   ],
   "source": [
    "# Portfolio volatility\n",
    "port_stdev = np.sqrt(multi_dot([wts.T, returns.cov(), wts]))\n",
    "port_stdev.flatten()[0]"
   ]
  },
  {
   "cell_type": "markdown",
   "metadata": {},
   "source": [
    "\n",
    "<h3 id=\"Portfolio-Position\">Portfolio Position<a class=\"anchor-link\" href=\"#Portfolio-Position\">¶</a></h3>\n"
   ]
  },
  {
   "cell_type": "code",
   "execution_count": 33,
   "metadata": {},
   "outputs": [
    {
     "data": {
      "text/plain": [
       "4607223.205566406"
      ]
     },
     "execution_count": 33,
     "metadata": {},
     "output_type": "execute_result"
    }
   ],
   "source": [
    "# Portfolio Position\n",
    "port_pos = (df.iloc[-1] * num_of_shares).sum()\n",
    "port_pos"
   ]
  },
  {
   "cell_type": "code",
   "execution_count": 34,
   "metadata": {},
   "outputs": [],
   "source": [
    "# Calculate Portfolio VaR at difference confidence level\n",
    "pVaR_90 = norm.ppf(1-0.90,port_mean,port_stdev).flatten()[0]\n",
    "pVaR_95 = norm.ppf(1-0.95,port_mean,port_stdev).flatten()[0]\n",
    "pVaR_99 = norm.ppf(1-0.99,port_mean,port_stdev).flatten()[0]"
   ]
  },
  {
   "cell_type": "code",
   "execution_count": 35,
   "metadata": {},
   "outputs": [
    {
     "data": {
      "text/plain": [
       "-0.02382849147411927"
      ]
     },
     "execution_count": 35,
     "metadata": {},
     "output_type": "execute_result"
    }
   ],
   "source": [
    "pVaR_95"
   ]
  },
  {
   "cell_type": "markdown",
   "metadata": {},
   "source": [
    "\n",
    "<h3 id=\"Portfolio-VaR\">Portfolio VaR<a class=\"anchor-link\" href=\"#Portfolio-VaR\">¶</a></h3>\n"
   ]
  },
  {
   "cell_type": "code",
   "execution_count": 36,
   "metadata": {},
   "outputs": [
    {
     "name": "stdout",
     "output_type": "stream",
     "text": [
      "Confidence Level      Value At Risk\n",
      "------------------  ---------------\n",
      "90%                      -0.0182687\n",
      "95%                      -0.0238285\n",
      "99%                      -0.0342578\n"
     ]
    }
   ],
   "source": [
    "# Ouput results in tabular format\n",
    "ptable = [['90%', pVaR_90],['95%', pVaR_95],['99%', pVaR_99]]\n",
    "header = ['Confidence Level', 'Value At Risk']\n",
    "print(tabulate(ptable,headers=header))"
   ]
  },
  {
   "cell_type": "markdown",
   "metadata": {},
   "source": [
    "\n",
    "<p>Let's now compare the portfolio VaR numbers with that of the individual stocks</p>\n"
   ]
  },
  {
   "cell_type": "code",
   "execution_count": 37,
   "metadata": {},
   "outputs": [
    {
     "name": "stdout",
     "output_type": "stream",
     "text": [
      "AAPL Holding Value: 2.87e+05\n",
      "AAPL VaR at 95% confidence level: -7.965e+05\n",
      "\n",
      "AMZN Holding Value: 2.373e+06\n",
      "AMZN VaR at 95% confidence level: -7.101e+06\n",
      "\n",
      "FB Holding Value: 1.942e+05\n",
      "FB VaR at 95% confidence level: -6.603e+05\n",
      "\n",
      "GOOG Holding Value: 1.341e+06\n",
      "GOOG VaR at 95% confidence level: -3.432e+06\n",
      "\n",
      "NFLX Holding Value: 4.119e+05\n",
      "NFLX VaR at 95% confidence level: -1.884e+06\n",
      "\n",
      "Portfolio Holding Value: 4.607e+06\n",
      "Portoflio VaR at 95% confidence level: -1.098e+05\n"
     ]
    }
   ],
   "source": [
    "# Iterate over symbols\n",
    "for stock in df.columns:\n",
    "    pos = df[stock].iloc[-1] * num_of_shares\n",
    "    pvar = pos * VaR(stock)\n",
    "    \n",
    "    print(f'{stock} Holding Value: {pos:0.4}') \n",
    "    print(f'{stock} VaR at 95% confidence level: {pvar:0.4}')\n",
    "    print()\n",
    "\n",
    "print(f'Portfolio Holding Value: {port_pos:0.4}')\n",
    "print(f'Portoflio VaR at 95% confidence level: {port_pos * pVaR_95:0.4}')"
   ]
  },
  {
   "cell_type": "markdown",
   "metadata": {},
   "source": [
    "\n",
    "<p>The VaR for the current portfolio of $\\$ 4.6$ million is \\$109,356, which is much lesser than the individual VaR numbers. This signifies the effect of diversification by selecting different stocks.</p>\n"
   ]
  },
  {
   "cell_type": "markdown",
   "metadata": {},
   "source": [
    "\n",
    "<h1 id=\"References\">References<a class=\"anchor-link\" href=\"#References\">¶</a></h1><ul>\n",
    "<li><p>Numpy documentation <a href=\"https://docs.scipy.org/doc/numpy/\">https://docs.scipy.org/doc/numpy/</a></p>\n",
    "</li>\n",
    "<li><p>Scipy documentation <a href=\"https://docs.scipy.org/doc/scipy/reference/\">https://docs.scipy.org/doc/scipy/reference/</a></p>\n",
    "</li>\n",
    "<li><p>Paul Wilmott (2007), Paul Wilmott introduces Quantitative Finance</p>\n",
    "</li>\n",
    "</ul>\n"
   ]
  }
 ],
 "metadata": {
  "kernelspec": {
   "display_name": "Python 3",
   "language": "python",
   "name": "python3"
  },
  "language_info": {
   "codemirror_mode": {
    "name": "ipython",
    "version": 3
   },
   "file_extension": ".py",
   "mimetype": "text/x-python",
   "name": "python",
   "nbconvert_exporter": "python",
   "pygments_lexer": "ipython3",
   "version": "3.7.3"
  }
 },
 "nbformat": 4,
 "nbformat_minor": 1
}
