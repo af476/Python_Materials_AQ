{
 "cells": [
  {
   "cell_type": "markdown",
   "metadata": {},
   "source": [
    "\n",
    "<h2 id=\"Linear-Algebra\">Linear Algebra<a class=\"anchor-link\" href=\"#Linear-Algebra\">¶</a></h2><p>Linear Algebra is an important part of any array library. <code>numpy.linalg</code> module will be used for linear algebric operations. Some of commonly used Linear Algebra functions:</p>\n",
    "<table>\n",
    "<thead><tr>\n",
    "<th style=\"text-align:left\">Function</th>\n",
    "<th style=\"text-align:left\">Description   </th>\n",
    "</tr>\n",
    "</thead>\n",
    "<tbody>\n",
    "<tr>\n",
    "<td style=\"text-align:left\"><code>np.dot</code></td>\n",
    "<td style=\"text-align:left\">Dot product of two arrays</td>\n",
    "</tr>\n",
    "<tr>\n",
    "<td style=\"text-align:left\"><code>np.vdot</code></td>\n",
    "<td style=\"text-align:left\">Returns the dot product of two vectors</td>\n",
    "</tr>\n",
    "<tr>\n",
    "<td style=\"text-align:left\"><code>linalg.multi_dot</code></td>\n",
    "<td style=\"text-align:left\">Compute the dot product of two or more arrays in a single function call</td>\n",
    "</tr>\n",
    "<tr>\n",
    "<td style=\"text-align:left\"><code>linalg.eig</code></td>\n",
    "<td style=\"text-align:left\">Compute the eigenvalues and eigenvectors of a square array</td>\n",
    "</tr>\n",
    "<tr>\n",
    "<td style=\"text-align:left\"><code>linalg.det</code></td>\n",
    "<td style=\"text-align:left\">Compute the matrix determinant</td>\n",
    "</tr>\n",
    "<tr>\n",
    "<td style=\"text-align:left\"><code>linalg.inv</code></td>\n",
    "<td style=\"text-align:left\">Compute inverse of a square matrix</td>\n",
    "</tr>\n",
    "<tr>\n",
    "<td style=\"text-align:left\"><code>linalg.solve</code></td>\n",
    "<td style=\"text-align:left\">Solve a linear matrix equation, or system of linear scalar equations.</td>\n",
    "</tr>\n",
    "</tbody>\n",
    "</table>\n"
   ]
  },
  {
   "cell_type": "code",
   "execution_count": 1,
   "metadata": {},
   "outputs": [],
   "source": [
    "# Import required libraries\n",
    "import numpy as np"
   ]
  },
  {
   "cell_type": "code",
   "execution_count": 3,
   "metadata": {},
   "outputs": [],
   "source": [
    "# Define a 2D array\n",
    "a = np.array([[1,2],[3,4]]) \n",
    "b = np.array([[11,12],[13,14]]) "
   ]
  },
  {
   "cell_type": "code",
   "execution_count": 4,
   "metadata": {},
   "outputs": [
    {
     "data": {
      "text/plain": [
       "array([[1, 2],\n",
       "       [3, 4]])"
      ]
     },
     "execution_count": 4,
     "metadata": {},
     "output_type": "execute_result"
    }
   ],
   "source": [
    "a"
   ]
  },
  {
   "cell_type": "code",
   "execution_count": 5,
   "metadata": {},
   "outputs": [
    {
     "data": {
      "text/plain": [
       "array([[11, 12],\n",
       "       [13, 14]])"
      ]
     },
     "execution_count": 5,
     "metadata": {},
     "output_type": "execute_result"
    }
   ],
   "source": [
    "b"
   ]
  },
  {
   "cell_type": "markdown",
   "metadata": {},
   "source": [
    "\n",
    "<h3 id=\"dot\">dot<a class=\"anchor-link\" href=\"#dot\">¶</a></h3><p>The dot product of two arrays.</p>\n"
   ]
  },
  {
   "cell_type": "code",
   "execution_count": 6,
   "metadata": {},
   "outputs": [
    {
     "data": {
      "text/plain": [
       "array([[37, 40],\n",
       "       [85, 92]])"
      ]
     },
     "execution_count": 6,
     "metadata": {},
     "output_type": "execute_result"
    }
   ],
   "source": [
    "# dot Product\n",
    "np.dot(a,b)"
   ]
  },
  {
   "cell_type": "markdown",
   "metadata": {},
   "source": [
    "\n",
    "<p>a.dot(b) is equivalent to np.dot(a,b)</p>\n"
   ]
  },
  {
   "cell_type": "code",
   "execution_count": 7,
   "metadata": {},
   "outputs": [
    {
     "data": {
      "text/plain": [
       "array([[37, 40],\n",
       "       [85, 92]])"
      ]
     },
     "execution_count": 7,
     "metadata": {},
     "output_type": "execute_result"
    }
   ],
   "source": [
    "a.dot(b)"
   ]
  },
  {
   "cell_type": "code",
   "execution_count": 8,
   "metadata": {},
   "outputs": [
    {
     "data": {
      "text/plain": [
       "[[37, 40], [85, 92]]"
      ]
     },
     "execution_count": 8,
     "metadata": {},
     "output_type": "execute_result"
    }
   ],
   "source": [
    "# Verify output\n",
    "[[1*11+2*13, 1*12+2*14],[3*11+4*13, 3*12+4*14]]"
   ]
  },
  {
   "cell_type": "markdown",
   "metadata": {},
   "source": [
    "\n",
    "<p>As of Python 3.5, the  <code>@</code> symbol also works as an infix operator that performs matrix multiplication.</p>\n"
   ]
  },
  {
   "cell_type": "code",
   "execution_count": 9,
   "metadata": {},
   "outputs": [
    {
     "data": {
      "text/plain": [
       "array([3., 7.])"
      ]
     },
     "execution_count": 9,
     "metadata": {},
     "output_type": "execute_result"
    }
   ],
   "source": [
    "a @ np.ones(2)  # equal to a.dot(np.ones(2))"
   ]
  },
  {
   "cell_type": "markdown",
   "metadata": {},
   "source": [
    "\n",
    "<h3 id=\"vdot\">vdot<a class=\"anchor-link\" href=\"#vdot\">¶</a></h3><p>The dot product of two vectors. <code>vdot</code> handles multidimensional arrays differently than dot: it does not perform a matrix product, but flattens input arguments to 1-D vectors first. Consequently, it should only be used for vectors.</p>\n"
   ]
  },
  {
   "cell_type": "code",
   "execution_count": 10,
   "metadata": {},
   "outputs": [
    {
     "data": {
      "text/plain": [
       "130"
      ]
     },
     "execution_count": 10,
     "metadata": {},
     "output_type": "execute_result"
    }
   ],
   "source": [
    "# vdot \n",
    "np.vdot(a,b)\n",
    "# = 1*11 + 2*12 + 3*14 + 4*14"
   ]
  },
  {
   "cell_type": "code",
   "execution_count": 11,
   "metadata": {},
   "outputs": [
    {
     "data": {
      "text/plain": [
       "130"
      ]
     },
     "execution_count": 11,
     "metadata": {},
     "output_type": "execute_result"
    }
   ],
   "source": [
    "np.vdot(b, a)"
   ]
  },
  {
   "cell_type": "markdown",
   "metadata": {},
   "source": [
    "\n",
    "Higher-dimensional arrays are flattened.\n"
   ]
  },
  {
   "cell_type": "markdown",
   "metadata": {},
   "source": [
    "\n",
    "<h3 id=\"multi_dot\">multi_dot<a class=\"anchor-link\" href=\"#multi_dot\">¶</a></h3><p>Computes the dot product of two or more arrays in a single function call, while automatically selecting the fastest evaluation order.</p>\n",
    "<p><code>multi_dot</code> chains <code>numpy.dot</code></p>\n"
   ]
  },
  {
   "cell_type": "code",
   "execution_count": 12,
   "metadata": {},
   "outputs": [],
   "source": [
    "from numpy.linalg import multi_dot"
   ]
  },
  {
   "cell_type": "code",
   "execution_count": 13,
   "metadata": {},
   "outputs": [],
   "source": [
    "w = np.random.random((10000, 100))\n",
    "x = np.random.random((100, 1000))\n",
    "y = np.random.random((1000, 5))\n",
    "z = np.random.random((5, 333))"
   ]
  },
  {
   "cell_type": "code",
   "execution_count": 14,
   "metadata": {},
   "outputs": [
    {
     "data": {
      "text/plain": [
       "array([[31333.81624111, 24443.8393604 , 41636.36171362, ...,\n",
       "        25915.70551868, 22707.24759683, 38830.41257437],\n",
       "       [30446.11663099, 23750.64088189, 40451.92750304, ...,\n",
       "        25184.49736836, 22060.79863393, 37727.15673927],\n",
       "       [32939.90772266, 25693.82439782, 43772.88905566, ...,\n",
       "        27247.04967461, 23869.17221373, 40826.21742857],\n",
       "       ...,\n",
       "       [30517.19138845, 23809.4644785 , 40548.90437754, ...,\n",
       "        25248.65674863, 22112.03294442, 37799.44715978],\n",
       "       [30952.71510925, 24143.0393545 , 41128.84403043, ...,\n",
       "        25604.31446873, 22428.2411748 , 38356.53557846],\n",
       "       [30881.08649553, 24089.58170356, 41043.55525583, ...,\n",
       "        25537.98103077, 22382.02884429, 38285.43121988]])"
      ]
     },
     "execution_count": 14,
     "metadata": {},
     "output_type": "execute_result"
    }
   ],
   "source": [
    "# the actual dot multiplication\n",
    "out_1 = multi_dot([w, x, y, z])\n",
    "out_1"
   ]
  },
  {
   "cell_type": "code",
   "execution_count": 15,
   "metadata": {},
   "outputs": [
    {
     "data": {
      "text/plain": [
       "(10000, 333)"
      ]
     },
     "execution_count": 15,
     "metadata": {},
     "output_type": "execute_result"
    }
   ],
   "source": [
    "# output shape\n",
    "out_1.shape"
   ]
  },
  {
   "cell_type": "code",
   "execution_count": 16,
   "metadata": {},
   "outputs": [
    {
     "data": {
      "text/plain": [
       "(10000, 333)"
      ]
     },
     "execution_count": 16,
     "metadata": {},
     "output_type": "execute_result"
    }
   ],
   "source": [
    "# Same as above\n",
    "out_2 = np.dot(np.dot(np.dot(w, x), y), z)\n",
    "out_2.shape"
   ]
  },
  {
   "cell_type": "code",
   "execution_count": 18,
   "metadata": {},
   "outputs": [
    {
     "data": {
      "text/plain": [
       "(10000, 333)"
      ]
     },
     "execution_count": 18,
     "metadata": {},
     "output_type": "execute_result"
    }
   ],
   "source": [
    "# Same as above\n",
    "out_3 = w.dot(x).dot(y).dot(z)\n",
    "out_3.shape"
   ]
  },
  {
   "cell_type": "markdown",
   "metadata": {},
   "source": [
    "\n",
    "<h3 id=\"eigen-values-and-vector\">eigen values and vector<a class=\"anchor-link\" href=\"#eigen-values-and-vector\">¶</a></h3><p>Computes the eigenvalues and right eigenvectors of a square array.</p>\n"
   ]
  },
  {
   "cell_type": "code",
   "execution_count": 19,
   "metadata": {},
   "outputs": [],
   "source": [
    "# Import Linear Algebra module from NumPy\n",
    "from numpy import linalg as LA"
   ]
  },
  {
   "cell_type": "markdown",
   "metadata": {},
   "source": [
    "\n",
    "<p>Let's create a diagonal matrix using <code>np.diag()</code> function in NumPy.</p>\n"
   ]
  },
  {
   "cell_type": "code",
   "execution_count": 20,
   "metadata": {},
   "outputs": [
    {
     "data": {
      "text/plain": [
       "array([[2, 0, 0],\n",
       "       [0, 3, 0],\n",
       "       [0, 0, 4]])"
      ]
     },
     "execution_count": 20,
     "metadata": {},
     "output_type": "execute_result"
    }
   ],
   "source": [
    "dia = np.diag((2, 3, 4))\n",
    "dia"
   ]
  },
  {
   "cell_type": "markdown",
   "metadata": {},
   "source": [
    "\n",
    "<p>Since our input array is a diagonal matrix, the eigen vectors make a identity matrix and the eigen values are simply the diagonal elements of the input matrix. Let's check this!</p>\n"
   ]
  },
  {
   "cell_type": "code",
   "execution_count": 21,
   "metadata": {},
   "outputs": [],
   "source": [
    "# Derive eigen values and vectors\n",
    "e_val,e_vec = LA.eig(dia)"
   ]
  },
  {
   "cell_type": "code",
   "execution_count": 22,
   "metadata": {},
   "outputs": [
    {
     "data": {
      "text/plain": [
       "array([2., 3., 4.])"
      ]
     },
     "execution_count": 22,
     "metadata": {},
     "output_type": "execute_result"
    }
   ],
   "source": [
    "# Eigen Values\n",
    "e_val"
   ]
  },
  {
   "cell_type": "code",
   "execution_count": 23,
   "metadata": {},
   "outputs": [
    {
     "data": {
      "text/plain": [
       "array([[1., 0., 0.],\n",
       "       [0., 1., 0.],\n",
       "       [0., 0., 1.]])"
      ]
     },
     "execution_count": 23,
     "metadata": {},
     "output_type": "execute_result"
    }
   ],
   "source": [
    "# Eigne Vectors\n",
    "e_vec"
   ]
  },
  {
   "cell_type": "markdown",
   "metadata": {},
   "source": [
    "\n",
    "<p>Another example</p>\n"
   ]
  },
  {
   "cell_type": "code",
   "execution_count": 24,
   "metadata": {},
   "outputs": [],
   "source": [
    "# let A be the 2x2 square matrix\n",
    "A = np.array([[3,-4], [2,-6]])"
   ]
  },
  {
   "cell_type": "code",
   "execution_count": 25,
   "metadata": {},
   "outputs": [
    {
     "data": {
      "text/plain": [
       "(array([ 2., -5.]), array([[0.9701425 , 0.4472136 ],\n",
       "        [0.24253563, 0.89442719]]))"
      ]
     },
     "execution_count": 25,
     "metadata": {},
     "output_type": "execute_result"
    }
   ],
   "source": [
    "LA.eig(A) # calculates the eigen-values and eigen-vectors"
   ]
  },
  {
   "cell_type": "markdown",
   "metadata": {},
   "source": [
    "\n",
    "<h3 id=\"determinant\">determinant<a class=\"anchor-link\" href=\"#determinant\">¶</a></h3><p>Compute the determinant of an array.</p>\n"
   ]
  },
  {
   "cell_type": "code",
   "execution_count": 26,
   "metadata": {},
   "outputs": [
    {
     "data": {
      "text/plain": [
       "-10.000000000000002"
      ]
     },
     "execution_count": 26,
     "metadata": {},
     "output_type": "execute_result"
    }
   ],
   "source": [
    "LA.det(A) # determinant of A"
   ]
  },
  {
   "cell_type": "markdown",
   "metadata": {},
   "source": [
    "\n",
    "<h3 id=\"inverse\">inverse<a class=\"anchor-link\" href=\"#inverse\">¶</a></h3><p>Compute the inverse of a matrix.</p>\n"
   ]
  },
  {
   "cell_type": "code",
   "execution_count": 27,
   "metadata": {},
   "outputs": [
    {
     "data": {
      "text/plain": [
       "array([[ 0.6, -0.4],\n",
       "       [ 0.2, -0.3]])"
      ]
     },
     "execution_count": 27,
     "metadata": {},
     "output_type": "execute_result"
    }
   ],
   "source": [
    "LA.inv(A) # inverse of A"
   ]
  },
  {
   "cell_type": "markdown",
   "metadata": {},
   "source": [
    "\n",
    "<h3 id=\"solve\">solve<a class=\"anchor-link\" href=\"#solve\">¶</a></h3><p>Before we get into the portfolio optimisation problem, let’s solve a set of linear equations using linalg.solve <br/><br/></p>\n",
    "\\begin{matrix}\n",
    "2x+1y-2z &amp;=&amp;10  \\ \\\\\n",
    "3x+2y+2z &amp;=&amp;1 \\ \\\\\n",
    "5x+4y+3z &amp;=&amp;4 \\ \\\\\n",
    "\\end{matrix}<p>Using the matrix inversion problem $A$<strong>x</strong>=<strong>b</strong> where,</p>\n",
    "$$A=\\left( \n",
    "\\begin{array}{ccc}\n",
    "2 &amp; 1 &amp; -2 \\\\ \n",
    "3 &amp; 2 &amp; 2 \\\\ \n",
    "5 &amp; 4 &amp; 3%\n",
    "\\end{array}%\n",
    "\\right) ;\\ \\mathbf{b=}\\left( \n",
    "\\begin{array}{c}\n",
    "10 \\\\ \n",
    "1 \\\\ \n",
    "4%\n",
    "\\end{array}%\n",
    "\\right)$$<p></p>\n"
   ]
  },
  {
   "cell_type": "code",
   "execution_count": 28,
   "metadata": {},
   "outputs": [],
   "source": [
    "A = np.array([[2,1,-2], [3,2,2], [5,4,3]])\n",
    "b = np.array([10,1,4])"
   ]
  },
  {
   "cell_type": "code",
   "execution_count": 29,
   "metadata": {},
   "outputs": [
    {
     "data": {
      "text/plain": [
       "array([[ 2,  1, -2],\n",
       "       [ 3,  2,  2],\n",
       "       [ 5,  4,  3]])"
      ]
     },
     "execution_count": 29,
     "metadata": {},
     "output_type": "execute_result"
    }
   ],
   "source": [
    "A"
   ]
  },
  {
   "cell_type": "code",
   "execution_count": 30,
   "metadata": {},
   "outputs": [
    {
     "data": {
      "text/plain": [
       "array([10,  1,  4])"
      ]
     },
     "execution_count": 30,
     "metadata": {},
     "output_type": "execute_result"
    }
   ],
   "source": [
    "b"
   ]
  },
  {
   "cell_type": "code",
   "execution_count": 31,
   "metadata": {},
   "outputs": [
    {
     "data": {
      "text/plain": [
       "array([ 1.,  2., -3.])"
      ]
     },
     "execution_count": 31,
     "metadata": {},
     "output_type": "execute_result"
    }
   ],
   "source": [
    "x = LA.solve(A,b)\n",
    "x"
   ]
  },
  {
   "cell_type": "markdown",
   "metadata": {},
   "source": [
    "\n",
    "<p>Check that the solution is correct</p>\n"
   ]
  },
  {
   "cell_type": "code",
   "execution_count": 33,
   "metadata": {},
   "outputs": [
    {
     "data": {
      "text/plain": [
       "True"
      ]
     },
     "execution_count": 33,
     "metadata": {},
     "output_type": "execute_result"
    }
   ],
   "source": [
    "np.allclose(np.dot(A,x), b)"
   ]
  },
  {
   "cell_type": "markdown",
   "metadata": {},
   "source": [
    "\n",
    "<h1 id=\"References\">References<a class=\"anchor-link\" href=\"#References\">¶</a></h1><ul>\n",
    "<li><p>Numpy linear algebra documentation <a href=\"https://numpy.org/doc/stable/reference/routines.linalg.html\">https://numpy.org/doc/stable/reference/routines.linalg.html</a></p>\n",
    "</li>\n",
    "<li><p>Jake VanderPlas (2016), Python Data Science Handbook: Essential tools for working with data</p>\n",
    "</li>\n",
    "<li><p>McKinney (2018), Python for Data Analysis: Data Wrangling with Pandas, NumPy, and IPython</p>\n",
    "</li>\n",
    "</ul>\n"
   ]
  },
  {
   "cell_type": "code",
   "execution_count": null,
   "metadata": {},
   "outputs": [],
   "source": []
  }
 ],
 "metadata": {
  "kernelspec": {
   "display_name": "Python 3",
   "language": "python",
   "name": "python3"
  },
  "language_info": {
   "codemirror_mode": {
    "name": "ipython",
    "version": 3
   },
   "file_extension": ".py",
   "mimetype": "text/x-python",
   "name": "python",
   "nbconvert_exporter": "python",
   "pygments_lexer": "ipython3",
   "version": "3.7.3"
  }
 },
 "nbformat": 4,
 "nbformat_minor": 1
}
